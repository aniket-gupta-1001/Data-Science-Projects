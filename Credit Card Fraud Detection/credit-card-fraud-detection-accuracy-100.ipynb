{
 "cells": [
  {
   "cell_type": "markdown",
   "id": "3f7619be",
   "metadata": {
    "papermill": {
     "duration": 0.032757,
     "end_time": "2022-02-01T12:14:26.324269",
     "exception": false,
     "start_time": "2022-02-01T12:14:26.291512",
     "status": "completed"
    },
    "tags": []
   },
   "source": [
    "# **Credit Card Fraud Detection**"
   ]
  },
  {
   "cell_type": "code",
   "execution_count": 1,
   "id": "daea3b4d",
   "metadata": {
    "_cell_guid": "b1076dfc-b9ad-4769-8c92-a6c4dae69d19",
    "_uuid": "8f2839f25d086af736a60e9eeb907d3b93b6e0e5",
    "execution": {
     "iopub.execute_input": "2022-02-01T12:14:26.404300Z",
     "iopub.status.busy": "2022-02-01T12:14:26.403550Z",
     "iopub.status.idle": "2022-02-01T12:14:26.417524Z",
     "shell.execute_reply": "2022-02-01T12:14:26.418031Z",
     "shell.execute_reply.started": "2022-02-01T11:42:40.954294Z"
    },
    "papermill": {
     "duration": 0.060132,
     "end_time": "2022-02-01T12:14:26.418374",
     "exception": false,
     "start_time": "2022-02-01T12:14:26.358242",
     "status": "completed"
    },
    "tags": []
   },
   "outputs": [
    {
     "name": "stdout",
     "output_type": "stream",
     "text": [
      "/kaggle/input/creditcardfraud/creditcard.csv\n"
     ]
    }
   ],
   "source": [
    "# This Python 3 environment comes with many helpful analytics libraries installed\n",
    "# It is defined by the kaggle/python Docker image: https://github.com/kaggle/docker-python\n",
    "# For example, here's several helpful packages to load\n",
    "\n",
    "import numpy as np # linear algebra\n",
    "import pandas as pd # data processing, CSV file I/O (e.g. pd.read_csv)\n",
    "\n",
    "# Input data files are available in the read-only \"../input/\" directory\n",
    "# For example, running this (by clicking run or pressing Shift+Enter) will list all files under the input directory\n",
    "\n",
    "import os\n",
    "for dirname, _, filenames in os.walk('/kaggle/input'):\n",
    "    for filename in filenames:\n",
    "        print(os.path.join(dirname, filename))\n",
    "\n",
    "# You can write up to 20GB to the current directory (/kaggle/working/) that gets preserved as output when you create a version using \"Save & Run All\" \n",
    "# You can also write temporary files to /kaggle/temp/, but they won't be saved outside of the current session"
   ]
  },
  {
   "cell_type": "markdown",
   "id": "100a4f09",
   "metadata": {
    "papermill": {
     "duration": 0.030992,
     "end_time": "2022-02-01T12:14:26.481417",
     "exception": false,
     "start_time": "2022-02-01T12:14:26.450425",
     "status": "completed"
    },
    "tags": []
   },
   "source": [
    "# Import Libraries"
   ]
  },
  {
   "cell_type": "code",
   "execution_count": 2,
   "id": "8b243f21",
   "metadata": {
    "execution": {
     "iopub.execute_input": "2022-02-01T12:14:26.551712Z",
     "iopub.status.busy": "2022-02-01T12:14:26.551008Z",
     "iopub.status.idle": "2022-02-01T12:14:27.625244Z",
     "shell.execute_reply": "2022-02-01T12:14:27.625733Z",
     "shell.execute_reply.started": "2022-02-01T11:42:43.759858Z"
    },
    "papermill": {
     "duration": 1.11238,
     "end_time": "2022-02-01T12:14:27.625936",
     "exception": false,
     "start_time": "2022-02-01T12:14:26.513556",
     "status": "completed"
    },
    "tags": []
   },
   "outputs": [
    {
     "name": "stdout",
     "output_type": "stream",
     "text": [
      "Setup Complete\n"
     ]
    }
   ],
   "source": [
    "import numpy as np\n",
    "import pandas as pd\n",
    "import matplotlib.pyplot as plt\n",
    "import seaborn as sns\n",
    "%matplotlib inline \n",
    "print(\"Setup Complete\")"
   ]
  },
  {
   "cell_type": "markdown",
   "id": "9d2ad3e5",
   "metadata": {
    "papermill": {
     "duration": 0.032071,
     "end_time": "2022-02-01T12:14:27.690336",
     "exception": false,
     "start_time": "2022-02-01T12:14:27.658265",
     "status": "completed"
    },
    "tags": []
   },
   "source": [
    "# Loading Data"
   ]
  },
  {
   "cell_type": "code",
   "execution_count": 3,
   "id": "9d96f2f5",
   "metadata": {
    "execution": {
     "iopub.execute_input": "2022-02-01T12:14:27.764735Z",
     "iopub.status.busy": "2022-02-01T12:14:27.763846Z",
     "iopub.status.idle": "2022-02-01T12:14:33.363673Z",
     "shell.execute_reply": "2022-02-01T12:14:33.363075Z",
     "shell.execute_reply.started": "2022-02-01T12:07:36.269705Z"
    },
    "papermill": {
     "duration": 5.638069,
     "end_time": "2022-02-01T12:14:33.363850",
     "exception": false,
     "start_time": "2022-02-01T12:14:27.725781",
     "status": "completed"
    },
    "tags": []
   },
   "outputs": [
    {
     "name": "stdout",
     "output_type": "stream",
     "text": [
      "Data Load Complete\n"
     ]
    }
   ],
   "source": [
    "trans = pd.read_csv(\"../input/creditcardfraud/creditcard.csv\")\n",
    "print(\"Data Load Complete\")"
   ]
  },
  {
   "cell_type": "markdown",
   "id": "f9a694aa",
   "metadata": {
    "papermill": {
     "duration": 0.033556,
     "end_time": "2022-02-01T12:14:33.431104",
     "exception": false,
     "start_time": "2022-02-01T12:14:33.397548",
     "status": "completed"
    },
    "tags": []
   },
   "source": [
    "# Data Exploration"
   ]
  },
  {
   "cell_type": "code",
   "execution_count": 4,
   "id": "37ed6b5b",
   "metadata": {
    "execution": {
     "iopub.execute_input": "2022-02-01T12:14:33.505579Z",
     "iopub.status.busy": "2022-02-01T12:14:33.504866Z",
     "iopub.status.idle": "2022-02-01T12:14:33.535466Z",
     "shell.execute_reply": "2022-02-01T12:14:33.535974Z",
     "shell.execute_reply.started": "2022-02-01T11:42:49.158167Z"
    },
    "papermill": {
     "duration": 0.072389,
     "end_time": "2022-02-01T12:14:33.536147",
     "exception": false,
     "start_time": "2022-02-01T12:14:33.463758",
     "status": "completed"
    },
    "tags": []
   },
   "outputs": [
    {
     "data": {
      "text/html": [
       "<div>\n",
       "<style scoped>\n",
       "    .dataframe tbody tr th:only-of-type {\n",
       "        vertical-align: middle;\n",
       "    }\n",
       "\n",
       "    .dataframe tbody tr th {\n",
       "        vertical-align: top;\n",
       "    }\n",
       "\n",
       "    .dataframe thead th {\n",
       "        text-align: right;\n",
       "    }\n",
       "</style>\n",
       "<table border=\"1\" class=\"dataframe\">\n",
       "  <thead>\n",
       "    <tr style=\"text-align: right;\">\n",
       "      <th></th>\n",
       "      <th>Time</th>\n",
       "      <th>V1</th>\n",
       "      <th>V2</th>\n",
       "      <th>V3</th>\n",
       "      <th>V4</th>\n",
       "      <th>V5</th>\n",
       "      <th>V6</th>\n",
       "      <th>V7</th>\n",
       "      <th>V8</th>\n",
       "      <th>V9</th>\n",
       "      <th>...</th>\n",
       "      <th>V21</th>\n",
       "      <th>V22</th>\n",
       "      <th>V23</th>\n",
       "      <th>V24</th>\n",
       "      <th>V25</th>\n",
       "      <th>V26</th>\n",
       "      <th>V27</th>\n",
       "      <th>V28</th>\n",
       "      <th>Amount</th>\n",
       "      <th>Class</th>\n",
       "    </tr>\n",
       "  </thead>\n",
       "  <tbody>\n",
       "    <tr>\n",
       "      <th>0</th>\n",
       "      <td>0.0</td>\n",
       "      <td>-1.359807</td>\n",
       "      <td>-0.072781</td>\n",
       "      <td>2.536347</td>\n",
       "      <td>1.378155</td>\n",
       "      <td>-0.338321</td>\n",
       "      <td>0.462388</td>\n",
       "      <td>0.239599</td>\n",
       "      <td>0.098698</td>\n",
       "      <td>0.363787</td>\n",
       "      <td>...</td>\n",
       "      <td>-0.018307</td>\n",
       "      <td>0.277838</td>\n",
       "      <td>-0.110474</td>\n",
       "      <td>0.066928</td>\n",
       "      <td>0.128539</td>\n",
       "      <td>-0.189115</td>\n",
       "      <td>0.133558</td>\n",
       "      <td>-0.021053</td>\n",
       "      <td>149.62</td>\n",
       "      <td>0</td>\n",
       "    </tr>\n",
       "    <tr>\n",
       "      <th>1</th>\n",
       "      <td>0.0</td>\n",
       "      <td>1.191857</td>\n",
       "      <td>0.266151</td>\n",
       "      <td>0.166480</td>\n",
       "      <td>0.448154</td>\n",
       "      <td>0.060018</td>\n",
       "      <td>-0.082361</td>\n",
       "      <td>-0.078803</td>\n",
       "      <td>0.085102</td>\n",
       "      <td>-0.255425</td>\n",
       "      <td>...</td>\n",
       "      <td>-0.225775</td>\n",
       "      <td>-0.638672</td>\n",
       "      <td>0.101288</td>\n",
       "      <td>-0.339846</td>\n",
       "      <td>0.167170</td>\n",
       "      <td>0.125895</td>\n",
       "      <td>-0.008983</td>\n",
       "      <td>0.014724</td>\n",
       "      <td>2.69</td>\n",
       "      <td>0</td>\n",
       "    </tr>\n",
       "    <tr>\n",
       "      <th>2</th>\n",
       "      <td>1.0</td>\n",
       "      <td>-1.358354</td>\n",
       "      <td>-1.340163</td>\n",
       "      <td>1.773209</td>\n",
       "      <td>0.379780</td>\n",
       "      <td>-0.503198</td>\n",
       "      <td>1.800499</td>\n",
       "      <td>0.791461</td>\n",
       "      <td>0.247676</td>\n",
       "      <td>-1.514654</td>\n",
       "      <td>...</td>\n",
       "      <td>0.247998</td>\n",
       "      <td>0.771679</td>\n",
       "      <td>0.909412</td>\n",
       "      <td>-0.689281</td>\n",
       "      <td>-0.327642</td>\n",
       "      <td>-0.139097</td>\n",
       "      <td>-0.055353</td>\n",
       "      <td>-0.059752</td>\n",
       "      <td>378.66</td>\n",
       "      <td>0</td>\n",
       "    </tr>\n",
       "    <tr>\n",
       "      <th>3</th>\n",
       "      <td>1.0</td>\n",
       "      <td>-0.966272</td>\n",
       "      <td>-0.185226</td>\n",
       "      <td>1.792993</td>\n",
       "      <td>-0.863291</td>\n",
       "      <td>-0.010309</td>\n",
       "      <td>1.247203</td>\n",
       "      <td>0.237609</td>\n",
       "      <td>0.377436</td>\n",
       "      <td>-1.387024</td>\n",
       "      <td>...</td>\n",
       "      <td>-0.108300</td>\n",
       "      <td>0.005274</td>\n",
       "      <td>-0.190321</td>\n",
       "      <td>-1.175575</td>\n",
       "      <td>0.647376</td>\n",
       "      <td>-0.221929</td>\n",
       "      <td>0.062723</td>\n",
       "      <td>0.061458</td>\n",
       "      <td>123.50</td>\n",
       "      <td>0</td>\n",
       "    </tr>\n",
       "    <tr>\n",
       "      <th>4</th>\n",
       "      <td>2.0</td>\n",
       "      <td>-1.158233</td>\n",
       "      <td>0.877737</td>\n",
       "      <td>1.548718</td>\n",
       "      <td>0.403034</td>\n",
       "      <td>-0.407193</td>\n",
       "      <td>0.095921</td>\n",
       "      <td>0.592941</td>\n",
       "      <td>-0.270533</td>\n",
       "      <td>0.817739</td>\n",
       "      <td>...</td>\n",
       "      <td>-0.009431</td>\n",
       "      <td>0.798278</td>\n",
       "      <td>-0.137458</td>\n",
       "      <td>0.141267</td>\n",
       "      <td>-0.206010</td>\n",
       "      <td>0.502292</td>\n",
       "      <td>0.219422</td>\n",
       "      <td>0.215153</td>\n",
       "      <td>69.99</td>\n",
       "      <td>0</td>\n",
       "    </tr>\n",
       "  </tbody>\n",
       "</table>\n",
       "<p>5 rows × 31 columns</p>\n",
       "</div>"
      ],
      "text/plain": [
       "   Time        V1        V2        V3        V4        V5        V6        V7  \\\n",
       "0   0.0 -1.359807 -0.072781  2.536347  1.378155 -0.338321  0.462388  0.239599   \n",
       "1   0.0  1.191857  0.266151  0.166480  0.448154  0.060018 -0.082361 -0.078803   \n",
       "2   1.0 -1.358354 -1.340163  1.773209  0.379780 -0.503198  1.800499  0.791461   \n",
       "3   1.0 -0.966272 -0.185226  1.792993 -0.863291 -0.010309  1.247203  0.237609   \n",
       "4   2.0 -1.158233  0.877737  1.548718  0.403034 -0.407193  0.095921  0.592941   \n",
       "\n",
       "         V8        V9  ...       V21       V22       V23       V24       V25  \\\n",
       "0  0.098698  0.363787  ... -0.018307  0.277838 -0.110474  0.066928  0.128539   \n",
       "1  0.085102 -0.255425  ... -0.225775 -0.638672  0.101288 -0.339846  0.167170   \n",
       "2  0.247676 -1.514654  ...  0.247998  0.771679  0.909412 -0.689281 -0.327642   \n",
       "3  0.377436 -1.387024  ... -0.108300  0.005274 -0.190321 -1.175575  0.647376   \n",
       "4 -0.270533  0.817739  ... -0.009431  0.798278 -0.137458  0.141267 -0.206010   \n",
       "\n",
       "        V26       V27       V28  Amount  Class  \n",
       "0 -0.189115  0.133558 -0.021053  149.62      0  \n",
       "1  0.125895 -0.008983  0.014724    2.69      0  \n",
       "2 -0.139097 -0.055353 -0.059752  378.66      0  \n",
       "3 -0.221929  0.062723  0.061458  123.50      0  \n",
       "4  0.502292  0.219422  0.215153   69.99      0  \n",
       "\n",
       "[5 rows x 31 columns]"
      ]
     },
     "execution_count": 4,
     "metadata": {},
     "output_type": "execute_result"
    }
   ],
   "source": [
    "trans.head()"
   ]
  },
  {
   "cell_type": "code",
   "execution_count": 5,
   "id": "cda5660f",
   "metadata": {
    "execution": {
     "iopub.execute_input": "2022-02-01T12:14:33.612535Z",
     "iopub.status.busy": "2022-02-01T12:14:33.611391Z",
     "iopub.status.idle": "2022-02-01T12:14:33.655703Z",
     "shell.execute_reply": "2022-02-01T12:14:33.656262Z",
     "shell.execute_reply.started": "2022-02-01T11:42:49.203466Z"
    },
    "papermill": {
     "duration": 0.086811,
     "end_time": "2022-02-01T12:14:33.656494",
     "exception": false,
     "start_time": "2022-02-01T12:14:33.569683",
     "status": "completed"
    },
    "tags": []
   },
   "outputs": [
    {
     "name": "stdout",
     "output_type": "stream",
     "text": [
      "<class 'pandas.core.frame.DataFrame'>\n",
      "RangeIndex: 284807 entries, 0 to 284806\n",
      "Data columns (total 31 columns):\n",
      " #   Column  Non-Null Count   Dtype  \n",
      "---  ------  --------------   -----  \n",
      " 0   Time    284807 non-null  float64\n",
      " 1   V1      284807 non-null  float64\n",
      " 2   V2      284807 non-null  float64\n",
      " 3   V3      284807 non-null  float64\n",
      " 4   V4      284807 non-null  float64\n",
      " 5   V5      284807 non-null  float64\n",
      " 6   V6      284807 non-null  float64\n",
      " 7   V7      284807 non-null  float64\n",
      " 8   V8      284807 non-null  float64\n",
      " 9   V9      284807 non-null  float64\n",
      " 10  V10     284807 non-null  float64\n",
      " 11  V11     284807 non-null  float64\n",
      " 12  V12     284807 non-null  float64\n",
      " 13  V13     284807 non-null  float64\n",
      " 14  V14     284807 non-null  float64\n",
      " 15  V15     284807 non-null  float64\n",
      " 16  V16     284807 non-null  float64\n",
      " 17  V17     284807 non-null  float64\n",
      " 18  V18     284807 non-null  float64\n",
      " 19  V19     284807 non-null  float64\n",
      " 20  V20     284807 non-null  float64\n",
      " 21  V21     284807 non-null  float64\n",
      " 22  V22     284807 non-null  float64\n",
      " 23  V23     284807 non-null  float64\n",
      " 24  V24     284807 non-null  float64\n",
      " 25  V25     284807 non-null  float64\n",
      " 26  V26     284807 non-null  float64\n",
      " 27  V27     284807 non-null  float64\n",
      " 28  V28     284807 non-null  float64\n",
      " 29  Amount  284807 non-null  float64\n",
      " 30  Class   284807 non-null  int64  \n",
      "dtypes: float64(30), int64(1)\n",
      "memory usage: 67.4 MB\n"
     ]
    }
   ],
   "source": [
    "trans.info()"
   ]
  },
  {
   "cell_type": "code",
   "execution_count": 6,
   "id": "250e0cdb",
   "metadata": {
    "execution": {
     "iopub.execute_input": "2022-02-01T12:14:33.769926Z",
     "iopub.status.busy": "2022-02-01T12:14:33.729773Z",
     "iopub.status.idle": "2022-02-01T12:14:34.178279Z",
     "shell.execute_reply": "2022-02-01T12:14:34.178789Z",
     "shell.execute_reply.started": "2022-02-01T11:42:49.248134Z"
    },
    "papermill": {
     "duration": 0.488068,
     "end_time": "2022-02-01T12:14:34.178991",
     "exception": false,
     "start_time": "2022-02-01T12:14:33.690923",
     "status": "completed"
    },
    "tags": []
   },
   "outputs": [
    {
     "data": {
      "text/html": [
       "<div>\n",
       "<style scoped>\n",
       "    .dataframe tbody tr th:only-of-type {\n",
       "        vertical-align: middle;\n",
       "    }\n",
       "\n",
       "    .dataframe tbody tr th {\n",
       "        vertical-align: top;\n",
       "    }\n",
       "\n",
       "    .dataframe thead th {\n",
       "        text-align: right;\n",
       "    }\n",
       "</style>\n",
       "<table border=\"1\" class=\"dataframe\">\n",
       "  <thead>\n",
       "    <tr style=\"text-align: right;\">\n",
       "      <th></th>\n",
       "      <th>Time</th>\n",
       "      <th>V1</th>\n",
       "      <th>V2</th>\n",
       "      <th>V3</th>\n",
       "      <th>V4</th>\n",
       "      <th>V5</th>\n",
       "      <th>V6</th>\n",
       "      <th>V7</th>\n",
       "      <th>V8</th>\n",
       "      <th>V9</th>\n",
       "      <th>...</th>\n",
       "      <th>V21</th>\n",
       "      <th>V22</th>\n",
       "      <th>V23</th>\n",
       "      <th>V24</th>\n",
       "      <th>V25</th>\n",
       "      <th>V26</th>\n",
       "      <th>V27</th>\n",
       "      <th>V28</th>\n",
       "      <th>Amount</th>\n",
       "      <th>Class</th>\n",
       "    </tr>\n",
       "  </thead>\n",
       "  <tbody>\n",
       "    <tr>\n",
       "      <th>count</th>\n",
       "      <td>284807.000000</td>\n",
       "      <td>2.848070e+05</td>\n",
       "      <td>2.848070e+05</td>\n",
       "      <td>2.848070e+05</td>\n",
       "      <td>2.848070e+05</td>\n",
       "      <td>2.848070e+05</td>\n",
       "      <td>2.848070e+05</td>\n",
       "      <td>2.848070e+05</td>\n",
       "      <td>2.848070e+05</td>\n",
       "      <td>2.848070e+05</td>\n",
       "      <td>...</td>\n",
       "      <td>2.848070e+05</td>\n",
       "      <td>2.848070e+05</td>\n",
       "      <td>2.848070e+05</td>\n",
       "      <td>2.848070e+05</td>\n",
       "      <td>2.848070e+05</td>\n",
       "      <td>2.848070e+05</td>\n",
       "      <td>2.848070e+05</td>\n",
       "      <td>2.848070e+05</td>\n",
       "      <td>284807.000000</td>\n",
       "      <td>284807.000000</td>\n",
       "    </tr>\n",
       "    <tr>\n",
       "      <th>mean</th>\n",
       "      <td>94813.859575</td>\n",
       "      <td>3.918649e-15</td>\n",
       "      <td>5.682686e-16</td>\n",
       "      <td>-8.761736e-15</td>\n",
       "      <td>2.811118e-15</td>\n",
       "      <td>-1.552103e-15</td>\n",
       "      <td>2.040130e-15</td>\n",
       "      <td>-1.698953e-15</td>\n",
       "      <td>-1.893285e-16</td>\n",
       "      <td>-3.147640e-15</td>\n",
       "      <td>...</td>\n",
       "      <td>1.473120e-16</td>\n",
       "      <td>8.042109e-16</td>\n",
       "      <td>5.282512e-16</td>\n",
       "      <td>4.456271e-15</td>\n",
       "      <td>1.426896e-15</td>\n",
       "      <td>1.701640e-15</td>\n",
       "      <td>-3.662252e-16</td>\n",
       "      <td>-1.217809e-16</td>\n",
       "      <td>88.349619</td>\n",
       "      <td>0.001727</td>\n",
       "    </tr>\n",
       "    <tr>\n",
       "      <th>std</th>\n",
       "      <td>47488.145955</td>\n",
       "      <td>1.958696e+00</td>\n",
       "      <td>1.651309e+00</td>\n",
       "      <td>1.516255e+00</td>\n",
       "      <td>1.415869e+00</td>\n",
       "      <td>1.380247e+00</td>\n",
       "      <td>1.332271e+00</td>\n",
       "      <td>1.237094e+00</td>\n",
       "      <td>1.194353e+00</td>\n",
       "      <td>1.098632e+00</td>\n",
       "      <td>...</td>\n",
       "      <td>7.345240e-01</td>\n",
       "      <td>7.257016e-01</td>\n",
       "      <td>6.244603e-01</td>\n",
       "      <td>6.056471e-01</td>\n",
       "      <td>5.212781e-01</td>\n",
       "      <td>4.822270e-01</td>\n",
       "      <td>4.036325e-01</td>\n",
       "      <td>3.300833e-01</td>\n",
       "      <td>250.120109</td>\n",
       "      <td>0.041527</td>\n",
       "    </tr>\n",
       "    <tr>\n",
       "      <th>min</th>\n",
       "      <td>0.000000</td>\n",
       "      <td>-5.640751e+01</td>\n",
       "      <td>-7.271573e+01</td>\n",
       "      <td>-4.832559e+01</td>\n",
       "      <td>-5.683171e+00</td>\n",
       "      <td>-1.137433e+02</td>\n",
       "      <td>-2.616051e+01</td>\n",
       "      <td>-4.355724e+01</td>\n",
       "      <td>-7.321672e+01</td>\n",
       "      <td>-1.343407e+01</td>\n",
       "      <td>...</td>\n",
       "      <td>-3.483038e+01</td>\n",
       "      <td>-1.093314e+01</td>\n",
       "      <td>-4.480774e+01</td>\n",
       "      <td>-2.836627e+00</td>\n",
       "      <td>-1.029540e+01</td>\n",
       "      <td>-2.604551e+00</td>\n",
       "      <td>-2.256568e+01</td>\n",
       "      <td>-1.543008e+01</td>\n",
       "      <td>0.000000</td>\n",
       "      <td>0.000000</td>\n",
       "    </tr>\n",
       "    <tr>\n",
       "      <th>25%</th>\n",
       "      <td>54201.500000</td>\n",
       "      <td>-9.203734e-01</td>\n",
       "      <td>-5.985499e-01</td>\n",
       "      <td>-8.903648e-01</td>\n",
       "      <td>-8.486401e-01</td>\n",
       "      <td>-6.915971e-01</td>\n",
       "      <td>-7.682956e-01</td>\n",
       "      <td>-5.540759e-01</td>\n",
       "      <td>-2.086297e-01</td>\n",
       "      <td>-6.430976e-01</td>\n",
       "      <td>...</td>\n",
       "      <td>-2.283949e-01</td>\n",
       "      <td>-5.423504e-01</td>\n",
       "      <td>-1.618463e-01</td>\n",
       "      <td>-3.545861e-01</td>\n",
       "      <td>-3.171451e-01</td>\n",
       "      <td>-3.269839e-01</td>\n",
       "      <td>-7.083953e-02</td>\n",
       "      <td>-5.295979e-02</td>\n",
       "      <td>5.600000</td>\n",
       "      <td>0.000000</td>\n",
       "    </tr>\n",
       "    <tr>\n",
       "      <th>50%</th>\n",
       "      <td>84692.000000</td>\n",
       "      <td>1.810880e-02</td>\n",
       "      <td>6.548556e-02</td>\n",
       "      <td>1.798463e-01</td>\n",
       "      <td>-1.984653e-02</td>\n",
       "      <td>-5.433583e-02</td>\n",
       "      <td>-2.741871e-01</td>\n",
       "      <td>4.010308e-02</td>\n",
       "      <td>2.235804e-02</td>\n",
       "      <td>-5.142873e-02</td>\n",
       "      <td>...</td>\n",
       "      <td>-2.945017e-02</td>\n",
       "      <td>6.781943e-03</td>\n",
       "      <td>-1.119293e-02</td>\n",
       "      <td>4.097606e-02</td>\n",
       "      <td>1.659350e-02</td>\n",
       "      <td>-5.213911e-02</td>\n",
       "      <td>1.342146e-03</td>\n",
       "      <td>1.124383e-02</td>\n",
       "      <td>22.000000</td>\n",
       "      <td>0.000000</td>\n",
       "    </tr>\n",
       "    <tr>\n",
       "      <th>75%</th>\n",
       "      <td>139320.500000</td>\n",
       "      <td>1.315642e+00</td>\n",
       "      <td>8.037239e-01</td>\n",
       "      <td>1.027196e+00</td>\n",
       "      <td>7.433413e-01</td>\n",
       "      <td>6.119264e-01</td>\n",
       "      <td>3.985649e-01</td>\n",
       "      <td>5.704361e-01</td>\n",
       "      <td>3.273459e-01</td>\n",
       "      <td>5.971390e-01</td>\n",
       "      <td>...</td>\n",
       "      <td>1.863772e-01</td>\n",
       "      <td>5.285536e-01</td>\n",
       "      <td>1.476421e-01</td>\n",
       "      <td>4.395266e-01</td>\n",
       "      <td>3.507156e-01</td>\n",
       "      <td>2.409522e-01</td>\n",
       "      <td>9.104512e-02</td>\n",
       "      <td>7.827995e-02</td>\n",
       "      <td>77.165000</td>\n",
       "      <td>0.000000</td>\n",
       "    </tr>\n",
       "    <tr>\n",
       "      <th>max</th>\n",
       "      <td>172792.000000</td>\n",
       "      <td>2.454930e+00</td>\n",
       "      <td>2.205773e+01</td>\n",
       "      <td>9.382558e+00</td>\n",
       "      <td>1.687534e+01</td>\n",
       "      <td>3.480167e+01</td>\n",
       "      <td>7.330163e+01</td>\n",
       "      <td>1.205895e+02</td>\n",
       "      <td>2.000721e+01</td>\n",
       "      <td>1.559499e+01</td>\n",
       "      <td>...</td>\n",
       "      <td>2.720284e+01</td>\n",
       "      <td>1.050309e+01</td>\n",
       "      <td>2.252841e+01</td>\n",
       "      <td>4.584549e+00</td>\n",
       "      <td>7.519589e+00</td>\n",
       "      <td>3.517346e+00</td>\n",
       "      <td>3.161220e+01</td>\n",
       "      <td>3.384781e+01</td>\n",
       "      <td>25691.160000</td>\n",
       "      <td>1.000000</td>\n",
       "    </tr>\n",
       "  </tbody>\n",
       "</table>\n",
       "<p>8 rows × 31 columns</p>\n",
       "</div>"
      ],
      "text/plain": [
       "                Time            V1            V2            V3            V4  \\\n",
       "count  284807.000000  2.848070e+05  2.848070e+05  2.848070e+05  2.848070e+05   \n",
       "mean    94813.859575  3.918649e-15  5.682686e-16 -8.761736e-15  2.811118e-15   \n",
       "std     47488.145955  1.958696e+00  1.651309e+00  1.516255e+00  1.415869e+00   \n",
       "min         0.000000 -5.640751e+01 -7.271573e+01 -4.832559e+01 -5.683171e+00   \n",
       "25%     54201.500000 -9.203734e-01 -5.985499e-01 -8.903648e-01 -8.486401e-01   \n",
       "50%     84692.000000  1.810880e-02  6.548556e-02  1.798463e-01 -1.984653e-02   \n",
       "75%    139320.500000  1.315642e+00  8.037239e-01  1.027196e+00  7.433413e-01   \n",
       "max    172792.000000  2.454930e+00  2.205773e+01  9.382558e+00  1.687534e+01   \n",
       "\n",
       "                 V5            V6            V7            V8            V9  \\\n",
       "count  2.848070e+05  2.848070e+05  2.848070e+05  2.848070e+05  2.848070e+05   \n",
       "mean  -1.552103e-15  2.040130e-15 -1.698953e-15 -1.893285e-16 -3.147640e-15   \n",
       "std    1.380247e+00  1.332271e+00  1.237094e+00  1.194353e+00  1.098632e+00   \n",
       "min   -1.137433e+02 -2.616051e+01 -4.355724e+01 -7.321672e+01 -1.343407e+01   \n",
       "25%   -6.915971e-01 -7.682956e-01 -5.540759e-01 -2.086297e-01 -6.430976e-01   \n",
       "50%   -5.433583e-02 -2.741871e-01  4.010308e-02  2.235804e-02 -5.142873e-02   \n",
       "75%    6.119264e-01  3.985649e-01  5.704361e-01  3.273459e-01  5.971390e-01   \n",
       "max    3.480167e+01  7.330163e+01  1.205895e+02  2.000721e+01  1.559499e+01   \n",
       "\n",
       "       ...           V21           V22           V23           V24  \\\n",
       "count  ...  2.848070e+05  2.848070e+05  2.848070e+05  2.848070e+05   \n",
       "mean   ...  1.473120e-16  8.042109e-16  5.282512e-16  4.456271e-15   \n",
       "std    ...  7.345240e-01  7.257016e-01  6.244603e-01  6.056471e-01   \n",
       "min    ... -3.483038e+01 -1.093314e+01 -4.480774e+01 -2.836627e+00   \n",
       "25%    ... -2.283949e-01 -5.423504e-01 -1.618463e-01 -3.545861e-01   \n",
       "50%    ... -2.945017e-02  6.781943e-03 -1.119293e-02  4.097606e-02   \n",
       "75%    ...  1.863772e-01  5.285536e-01  1.476421e-01  4.395266e-01   \n",
       "max    ...  2.720284e+01  1.050309e+01  2.252841e+01  4.584549e+00   \n",
       "\n",
       "                V25           V26           V27           V28         Amount  \\\n",
       "count  2.848070e+05  2.848070e+05  2.848070e+05  2.848070e+05  284807.000000   \n",
       "mean   1.426896e-15  1.701640e-15 -3.662252e-16 -1.217809e-16      88.349619   \n",
       "std    5.212781e-01  4.822270e-01  4.036325e-01  3.300833e-01     250.120109   \n",
       "min   -1.029540e+01 -2.604551e+00 -2.256568e+01 -1.543008e+01       0.000000   \n",
       "25%   -3.171451e-01 -3.269839e-01 -7.083953e-02 -5.295979e-02       5.600000   \n",
       "50%    1.659350e-02 -5.213911e-02  1.342146e-03  1.124383e-02      22.000000   \n",
       "75%    3.507156e-01  2.409522e-01  9.104512e-02  7.827995e-02      77.165000   \n",
       "max    7.519589e+00  3.517346e+00  3.161220e+01  3.384781e+01   25691.160000   \n",
       "\n",
       "               Class  \n",
       "count  284807.000000  \n",
       "mean        0.001727  \n",
       "std         0.041527  \n",
       "min         0.000000  \n",
       "25%         0.000000  \n",
       "50%         0.000000  \n",
       "75%         0.000000  \n",
       "max         1.000000  \n",
       "\n",
       "[8 rows x 31 columns]"
      ]
     },
     "execution_count": 6,
     "metadata": {},
     "output_type": "execute_result"
    }
   ],
   "source": [
    "trans.describe()"
   ]
  },
  {
   "cell_type": "code",
   "execution_count": 7,
   "id": "8beab362",
   "metadata": {
    "execution": {
     "iopub.execute_input": "2022-02-01T12:14:34.255416Z",
     "iopub.status.busy": "2022-02-01T12:14:34.254318Z",
     "iopub.status.idle": "2022-02-01T12:14:34.266261Z",
     "shell.execute_reply": "2022-02-01T12:14:34.265707Z",
     "shell.execute_reply.started": "2022-02-01T11:42:49.676743Z"
    },
    "papermill": {
     "duration": 0.052991,
     "end_time": "2022-02-01T12:14:34.266427",
     "exception": false,
     "start_time": "2022-02-01T12:14:34.213436",
     "status": "completed"
    },
    "tags": []
   },
   "outputs": [
    {
     "data": {
      "text/plain": [
       "Time      27\n",
       "V1        27\n",
       "V2        27\n",
       "V3        27\n",
       "V4        27\n",
       "V5        27\n",
       "V6        27\n",
       "V7        27\n",
       "V8        27\n",
       "V9        27\n",
       "V10       27\n",
       "V11       27\n",
       "V12       27\n",
       "V13       27\n",
       "V14       27\n",
       "V15       27\n",
       "V16       27\n",
       "V17       27\n",
       "V18       27\n",
       "V19       27\n",
       "V20       27\n",
       "V21       27\n",
       "V22       27\n",
       "V23       27\n",
       "V24       27\n",
       "V25       27\n",
       "V26       27\n",
       "V27       27\n",
       "V28       27\n",
       "Amount    27\n",
       "Class     27\n",
       "dtype: int64"
      ]
     },
     "execution_count": 7,
     "metadata": {},
     "output_type": "execute_result"
    }
   ],
   "source": [
    "trans[(trans['Amount']==0.000000) & trans['Class']==1 ].count()"
   ]
  },
  {
   "cell_type": "code",
   "execution_count": 8,
   "id": "701a579b",
   "metadata": {
    "execution": {
     "iopub.execute_input": "2022-02-01T12:14:34.343292Z",
     "iopub.status.busy": "2022-02-01T12:14:34.342604Z",
     "iopub.status.idle": "2022-02-01T12:14:35.565415Z",
     "shell.execute_reply": "2022-02-01T12:14:35.564705Z",
     "shell.execute_reply.started": "2022-02-01T11:42:49.692784Z"
    },
    "papermill": {
     "duration": 1.263303,
     "end_time": "2022-02-01T12:14:35.565587",
     "exception": false,
     "start_time": "2022-02-01T12:14:34.302284",
     "status": "completed"
    },
    "tags": []
   },
   "outputs": [
    {
     "name": "stderr",
     "output_type": "stream",
     "text": [
      "/opt/conda/lib/python3.7/site-packages/seaborn/distributions.py:2619: FutureWarning: `distplot` is a deprecated function and will be removed in a future version. Please adapt your code to use either `displot` (a figure-level function with similar flexibility) or `histplot` (an axes-level function for histograms).\n",
      "  warnings.warn(msg, FutureWarning)\n"
     ]
    },
    {
     "data": {
      "text/plain": [
       "<AxesSubplot:xlabel='Amount', ylabel='Density'>"
      ]
     },
     "execution_count": 8,
     "metadata": {},
     "output_type": "execute_result"
    },
    {
     "data": {
      "image/png": "[encoded data removed]",
      "text/plain": [
       "<Figure size 432x288 with 1 Axes>"
      ]
     },
     "metadata": {
      "needs_background": "light"
     },
     "output_type": "display_data"
    }
   ],
   "source": [
    "sns.distplot(trans[\"Amount\"],bins=10)"
   ]
  },
  {
   "cell_type": "code",
   "execution_count": 9,
   "id": "0abbd1e3",
   "metadata": {
    "execution": {
     "iopub.execute_input": "2022-02-01T12:14:35.644415Z",
     "iopub.status.busy": "2022-02-01T12:14:35.643723Z",
     "iopub.status.idle": "2022-02-01T12:14:35.652148Z",
     "shell.execute_reply": "2022-02-01T12:14:35.652681Z",
     "shell.execute_reply.started": "2022-02-01T11:42:50.961558Z"
    },
    "papermill": {
     "duration": 0.051095,
     "end_time": "2022-02-01T12:14:35.652864",
     "exception": false,
     "start_time": "2022-02-01T12:14:35.601769",
     "status": "completed"
    },
    "tags": []
   },
   "outputs": [
    {
     "data": {
      "text/plain": [
       "0    284315\n",
       "1       492\n",
       "Name: Class, dtype: int64"
      ]
     },
     "execution_count": 9,
     "metadata": {},
     "output_type": "execute_result"
    }
   ],
   "source": [
    "trans['Class'].value_counts()"
   ]
  },
  {
   "cell_type": "code",
   "execution_count": 10,
   "id": "4cf41f92",
   "metadata": {
    "execution": {
     "iopub.execute_input": "2022-02-01T12:14:35.729985Z",
     "iopub.status.busy": "2022-02-01T12:14:35.729245Z",
     "iopub.status.idle": "2022-02-01T12:14:35.760591Z",
     "shell.execute_reply": "2022-02-01T12:14:35.761143Z",
     "shell.execute_reply.started": "2022-02-01T11:42:50.971930Z"
    },
    "papermill": {
     "duration": 0.072054,
     "end_time": "2022-02-01T12:14:35.761361",
     "exception": false,
     "start_time": "2022-02-01T12:14:35.689307",
     "status": "completed"
    },
    "tags": []
   },
   "outputs": [
    {
     "data": {
      "text/html": [
       "<div>\n",
       "<style scoped>\n",
       "    .dataframe tbody tr th:only-of-type {\n",
       "        vertical-align: middle;\n",
       "    }\n",
       "\n",
       "    .dataframe tbody tr th {\n",
       "        vertical-align: top;\n",
       "    }\n",
       "\n",
       "    .dataframe thead th {\n",
       "        text-align: right;\n",
       "    }\n",
       "</style>\n",
       "<table border=\"1\" class=\"dataframe\">\n",
       "  <thead>\n",
       "    <tr style=\"text-align: right;\">\n",
       "      <th></th>\n",
       "      <th>Time</th>\n",
       "      <th>V1</th>\n",
       "      <th>V2</th>\n",
       "      <th>V3</th>\n",
       "      <th>V4</th>\n",
       "      <th>V5</th>\n",
       "      <th>V6</th>\n",
       "      <th>V7</th>\n",
       "      <th>V8</th>\n",
       "      <th>V9</th>\n",
       "      <th>...</th>\n",
       "      <th>V21</th>\n",
       "      <th>V22</th>\n",
       "      <th>V23</th>\n",
       "      <th>V24</th>\n",
       "      <th>V25</th>\n",
       "      <th>V26</th>\n",
       "      <th>V27</th>\n",
       "      <th>V28</th>\n",
       "      <th>Amount</th>\n",
       "      <th>Class</th>\n",
       "    </tr>\n",
       "  </thead>\n",
       "  <tbody>\n",
       "    <tr>\n",
       "      <th>6971</th>\n",
       "      <td>9064.0</td>\n",
       "      <td>-3.499108</td>\n",
       "      <td>0.258555</td>\n",
       "      <td>-4.489558</td>\n",
       "      <td>4.853894</td>\n",
       "      <td>-6.974522</td>\n",
       "      <td>3.628382</td>\n",
       "      <td>5.431271</td>\n",
       "      <td>-1.946734</td>\n",
       "      <td>-0.775680</td>\n",
       "      <td>...</td>\n",
       "      <td>-1.052368</td>\n",
       "      <td>0.204817</td>\n",
       "      <td>-2.119007</td>\n",
       "      <td>0.170279</td>\n",
       "      <td>-0.393844</td>\n",
       "      <td>0.296367</td>\n",
       "      <td>1.985913</td>\n",
       "      <td>-0.900452</td>\n",
       "      <td>1809.68</td>\n",
       "      <td>1</td>\n",
       "    </tr>\n",
       "    <tr>\n",
       "      <th>10690</th>\n",
       "      <td>18088.0</td>\n",
       "      <td>-12.224021</td>\n",
       "      <td>3.854150</td>\n",
       "      <td>-12.466766</td>\n",
       "      <td>9.648311</td>\n",
       "      <td>-2.726961</td>\n",
       "      <td>-4.445610</td>\n",
       "      <td>-21.922811</td>\n",
       "      <td>0.320792</td>\n",
       "      <td>-4.433162</td>\n",
       "      <td>...</td>\n",
       "      <td>-1.159830</td>\n",
       "      <td>-1.504119</td>\n",
       "      <td>-19.254328</td>\n",
       "      <td>0.544867</td>\n",
       "      <td>-4.781606</td>\n",
       "      <td>-0.007772</td>\n",
       "      <td>3.052358</td>\n",
       "      <td>-0.775036</td>\n",
       "      <td>1218.89</td>\n",
       "      <td>1</td>\n",
       "    </tr>\n",
       "    <tr>\n",
       "      <th>81609</th>\n",
       "      <td>59011.0</td>\n",
       "      <td>-2.326922</td>\n",
       "      <td>-3.348439</td>\n",
       "      <td>-3.513408</td>\n",
       "      <td>3.175060</td>\n",
       "      <td>-2.815137</td>\n",
       "      <td>-0.203363</td>\n",
       "      <td>-0.892144</td>\n",
       "      <td>0.333226</td>\n",
       "      <td>-0.802005</td>\n",
       "      <td>...</td>\n",
       "      <td>1.226648</td>\n",
       "      <td>-0.695902</td>\n",
       "      <td>-1.478490</td>\n",
       "      <td>-0.061553</td>\n",
       "      <td>0.236155</td>\n",
       "      <td>0.531911</td>\n",
       "      <td>0.302324</td>\n",
       "      <td>0.536375</td>\n",
       "      <td>1389.56</td>\n",
       "      <td>1</td>\n",
       "    </tr>\n",
       "    <tr>\n",
       "      <th>89190</th>\n",
       "      <td>62467.0</td>\n",
       "      <td>-5.344665</td>\n",
       "      <td>-0.285760</td>\n",
       "      <td>-3.835616</td>\n",
       "      <td>5.337048</td>\n",
       "      <td>-7.609909</td>\n",
       "      <td>3.874668</td>\n",
       "      <td>1.289630</td>\n",
       "      <td>0.201742</td>\n",
       "      <td>-3.003532</td>\n",
       "      <td>...</td>\n",
       "      <td>0.276011</td>\n",
       "      <td>1.342045</td>\n",
       "      <td>-1.016579</td>\n",
       "      <td>-0.071361</td>\n",
       "      <td>-0.335869</td>\n",
       "      <td>0.441044</td>\n",
       "      <td>1.520613</td>\n",
       "      <td>-1.115937</td>\n",
       "      <td>1402.16</td>\n",
       "      <td>1</td>\n",
       "    </tr>\n",
       "    <tr>\n",
       "      <th>95597</th>\n",
       "      <td>65385.0</td>\n",
       "      <td>-2.923827</td>\n",
       "      <td>1.524837</td>\n",
       "      <td>-3.018758</td>\n",
       "      <td>3.289291</td>\n",
       "      <td>-5.755542</td>\n",
       "      <td>2.218276</td>\n",
       "      <td>-0.509995</td>\n",
       "      <td>-3.569444</td>\n",
       "      <td>-1.016592</td>\n",
       "      <td>...</td>\n",
       "      <td>-0.511657</td>\n",
       "      <td>-0.122724</td>\n",
       "      <td>-4.288639</td>\n",
       "      <td>0.563797</td>\n",
       "      <td>-0.949451</td>\n",
       "      <td>-0.204532</td>\n",
       "      <td>1.510206</td>\n",
       "      <td>-0.324706</td>\n",
       "      <td>1354.25</td>\n",
       "      <td>1</td>\n",
       "    </tr>\n",
       "    <tr>\n",
       "      <th>176049</th>\n",
       "      <td>122608.0</td>\n",
       "      <td>-2.003460</td>\n",
       "      <td>-7.159042</td>\n",
       "      <td>-4.050976</td>\n",
       "      <td>1.309580</td>\n",
       "      <td>-2.058102</td>\n",
       "      <td>-0.098621</td>\n",
       "      <td>2.880083</td>\n",
       "      <td>-0.727484</td>\n",
       "      <td>1.460381</td>\n",
       "      <td>...</td>\n",
       "      <td>1.244287</td>\n",
       "      <td>-1.015232</td>\n",
       "      <td>-1.800985</td>\n",
       "      <td>0.657586</td>\n",
       "      <td>-0.435617</td>\n",
       "      <td>-0.894509</td>\n",
       "      <td>-0.397557</td>\n",
       "      <td>0.314262</td>\n",
       "      <td>2125.87</td>\n",
       "      <td>1</td>\n",
       "    </tr>\n",
       "    <tr>\n",
       "      <th>199896</th>\n",
       "      <td>133184.0</td>\n",
       "      <td>-1.212682</td>\n",
       "      <td>-2.484824</td>\n",
       "      <td>-6.397186</td>\n",
       "      <td>3.670562</td>\n",
       "      <td>-0.863375</td>\n",
       "      <td>-1.855855</td>\n",
       "      <td>1.017732</td>\n",
       "      <td>-0.544704</td>\n",
       "      <td>-1.703378</td>\n",
       "      <td>...</td>\n",
       "      <td>1.396872</td>\n",
       "      <td>0.092073</td>\n",
       "      <td>-1.492882</td>\n",
       "      <td>-0.204227</td>\n",
       "      <td>0.532511</td>\n",
       "      <td>-0.293871</td>\n",
       "      <td>0.212663</td>\n",
       "      <td>0.431095</td>\n",
       "      <td>1335.00</td>\n",
       "      <td>1</td>\n",
       "    </tr>\n",
       "    <tr>\n",
       "      <th>249167</th>\n",
       "      <td>154278.0</td>\n",
       "      <td>-1.600211</td>\n",
       "      <td>-3.488130</td>\n",
       "      <td>-6.459303</td>\n",
       "      <td>3.246816</td>\n",
       "      <td>-1.614608</td>\n",
       "      <td>-1.260375</td>\n",
       "      <td>0.288223</td>\n",
       "      <td>-0.048964</td>\n",
       "      <td>-0.734975</td>\n",
       "      <td>...</td>\n",
       "      <td>1.191175</td>\n",
       "      <td>-0.967141</td>\n",
       "      <td>-1.463421</td>\n",
       "      <td>-0.624231</td>\n",
       "      <td>-0.176462</td>\n",
       "      <td>0.400348</td>\n",
       "      <td>0.152947</td>\n",
       "      <td>0.477775</td>\n",
       "      <td>1504.93</td>\n",
       "      <td>1</td>\n",
       "    </tr>\n",
       "    <tr>\n",
       "      <th>249239</th>\n",
       "      <td>154309.0</td>\n",
       "      <td>-0.082983</td>\n",
       "      <td>-3.935919</td>\n",
       "      <td>-2.616709</td>\n",
       "      <td>0.163310</td>\n",
       "      <td>-1.400952</td>\n",
       "      <td>-0.809419</td>\n",
       "      <td>1.501580</td>\n",
       "      <td>-0.471000</td>\n",
       "      <td>1.519743</td>\n",
       "      <td>...</td>\n",
       "      <td>0.702672</td>\n",
       "      <td>-0.182305</td>\n",
       "      <td>-0.921017</td>\n",
       "      <td>0.111635</td>\n",
       "      <td>-0.071622</td>\n",
       "      <td>-1.125881</td>\n",
       "      <td>-0.170947</td>\n",
       "      <td>0.126221</td>\n",
       "      <td>1096.99</td>\n",
       "      <td>1</td>\n",
       "    </tr>\n",
       "  </tbody>\n",
       "</table>\n",
       "<p>9 rows × 31 columns</p>\n",
       "</div>"
      ],
      "text/plain": [
       "            Time         V1        V2         V3        V4        V5  \\\n",
       "6971      9064.0  -3.499108  0.258555  -4.489558  4.853894 -6.974522   \n",
       "10690    18088.0 -12.224021  3.854150 -12.466766  9.648311 -2.726961   \n",
       "81609    59011.0  -2.326922 -3.348439  -3.513408  3.175060 -2.815137   \n",
       "89190    62467.0  -5.344665 -0.285760  -3.835616  5.337048 -7.609909   \n",
       "95597    65385.0  -2.923827  1.524837  -3.018758  3.289291 -5.755542   \n",
       "176049  122608.0  -2.003460 -7.159042  -4.050976  1.309580 -2.058102   \n",
       "199896  133184.0  -1.212682 -2.484824  -6.397186  3.670562 -0.863375   \n",
       "249167  154278.0  -1.600211 -3.488130  -6.459303  3.246816 -1.614608   \n",
       "249239  154309.0  -0.082983 -3.935919  -2.616709  0.163310 -1.400952   \n",
       "\n",
       "              V6         V7        V8        V9  ...       V21       V22  \\\n",
       "6971    3.628382   5.431271 -1.946734 -0.775680  ... -1.052368  0.204817   \n",
       "10690  -4.445610 -21.922811  0.320792 -4.433162  ... -1.159830 -1.504119   \n",
       "81609  -0.203363  -0.892144  0.333226 -0.802005  ...  1.226648 -0.695902   \n",
       "89190   3.874668   1.289630  0.201742 -3.003532  ...  0.276011  1.342045   \n",
       "95597   2.218276  -0.509995 -3.569444 -1.016592  ... -0.511657 -0.122724   \n",
       "176049 -0.098621   2.880083 -0.727484  1.460381  ...  1.244287 -1.015232   \n",
       "199896 -1.855855   1.017732 -0.544704 -1.703378  ...  1.396872  0.092073   \n",
       "249167 -1.260375   0.288223 -0.048964 -0.734975  ...  1.191175 -0.967141   \n",
       "249239 -0.809419   1.501580 -0.471000  1.519743  ...  0.702672 -0.182305   \n",
       "\n",
       "              V23       V24       V25       V26       V27       V28   Amount  \\\n",
       "6971    -2.119007  0.170279 -0.393844  0.296367  1.985913 -0.900452  1809.68   \n",
       "10690  -19.254328  0.544867 -4.781606 -0.007772  3.052358 -0.775036  1218.89   \n",
       "81609   -1.478490 -0.061553  0.236155  0.531911  0.302324  0.536375  1389.56   \n",
       "89190   -1.016579 -0.071361 -0.335869  0.441044  1.520613 -1.115937  1402.16   \n",
       "95597   -4.288639  0.563797 -0.949451 -0.204532  1.510206 -0.324706  1354.25   \n",
       "176049  -1.800985  0.657586 -0.435617 -0.894509 -0.397557  0.314262  2125.87   \n",
       "199896  -1.492882 -0.204227  0.532511 -0.293871  0.212663  0.431095  1335.00   \n",
       "249167  -1.463421 -0.624231 -0.176462  0.400348  0.152947  0.477775  1504.93   \n",
       "249239  -0.921017  0.111635 -0.071622 -1.125881 -0.170947  0.126221  1096.99   \n",
       "\n",
       "        Class  \n",
       "6971        1  \n",
       "10690       1  \n",
       "81609       1  \n",
       "89190       1  \n",
       "95597       1  \n",
       "176049      1  \n",
       "199896      1  \n",
       "249167      1  \n",
       "249239      1  \n",
       "\n",
       "[9 rows x 31 columns]"
      ]
     },
     "execution_count": 10,
     "metadata": {},
     "output_type": "execute_result"
    }
   ],
   "source": [
    "trans[(trans['Amount'] > 1000) & (trans['Class'] == int(1))]"
   ]
  },
  {
   "cell_type": "markdown",
   "id": "dbf14aed",
   "metadata": {
    "papermill": {
     "duration": 0.037991,
     "end_time": "2022-02-01T12:14:35.836866",
     "exception": false,
     "start_time": "2022-02-01T12:14:35.798875",
     "status": "completed"
    },
    "tags": []
   },
   "source": [
    "# Data Preprocessing"
   ]
  },
  {
   "cell_type": "code",
   "execution_count": 11,
   "id": "0333ef3c",
   "metadata": {
    "execution": {
     "iopub.execute_input": "2022-02-01T12:14:35.916337Z",
     "iopub.status.busy": "2022-02-01T12:14:35.915657Z",
     "iopub.status.idle": "2022-02-01T12:14:35.968775Z",
     "shell.execute_reply": "2022-02-01T12:14:35.968241Z",
     "shell.execute_reply.started": "2022-02-01T11:42:51.011537Z"
    },
    "papermill": {
     "duration": 0.094891,
     "end_time": "2022-02-01T12:14:35.968921",
     "exception": false,
     "start_time": "2022-02-01T12:14:35.874030",
     "status": "completed"
    },
    "tags": []
   },
   "outputs": [],
   "source": [
    "legit = trans[trans.Class == 0]\n",
    "fraud = trans[trans.Class == 1]"
   ]
  },
  {
   "cell_type": "code",
   "execution_count": 12,
   "id": "2935b7b3",
   "metadata": {
    "execution": {
     "iopub.execute_input": "2022-02-01T12:14:36.047171Z",
     "iopub.status.busy": "2022-02-01T12:14:36.046566Z",
     "iopub.status.idle": "2022-02-01T12:14:36.051957Z",
     "shell.execute_reply": "2022-02-01T12:14:36.052472Z",
     "shell.execute_reply.started": "2022-02-01T11:42:51.050206Z"
    },
    "papermill": {
     "duration": 0.046961,
     "end_time": "2022-02-01T12:14:36.052647",
     "exception": false,
     "start_time": "2022-02-01T12:14:36.005686",
     "status": "completed"
    },
    "tags": []
   },
   "outputs": [
    {
     "name": "stdout",
     "output_type": "stream",
     "text": [
      "(284315, 31)\n",
      "(492, 31)\n"
     ]
    }
   ],
   "source": [
    "print(legit.shape)\n",
    "print(fraud.shape)"
   ]
  },
  {
   "cell_type": "code",
   "execution_count": 13,
   "id": "706951d1",
   "metadata": {
    "execution": {
     "iopub.execute_input": "2022-02-01T12:14:36.131644Z",
     "iopub.status.busy": "2022-02-01T12:14:36.130971Z",
     "iopub.status.idle": "2022-02-01T12:14:36.218716Z",
     "shell.execute_reply": "2022-02-01T12:14:36.219243Z",
     "shell.execute_reply.started": "2022-02-01T11:42:51.057592Z"
    },
    "papermill": {
     "duration": 0.129751,
     "end_time": "2022-02-01T12:14:36.219469",
     "exception": false,
     "start_time": "2022-02-01T12:14:36.089718",
     "status": "completed"
    },
    "tags": []
   },
   "outputs": [
    {
     "data": {
      "text/html": [
       "<div>\n",
       "<style scoped>\n",
       "    .dataframe tbody tr th:only-of-type {\n",
       "        vertical-align: middle;\n",
       "    }\n",
       "\n",
       "    .dataframe tbody tr th {\n",
       "        vertical-align: top;\n",
       "    }\n",
       "\n",
       "    .dataframe thead th {\n",
       "        text-align: right;\n",
       "    }\n",
       "</style>\n",
       "<table border=\"1\" class=\"dataframe\">\n",
       "  <thead>\n",
       "    <tr style=\"text-align: right;\">\n",
       "      <th></th>\n",
       "      <th>Time</th>\n",
       "      <th>V1</th>\n",
       "      <th>V2</th>\n",
       "      <th>V3</th>\n",
       "      <th>V4</th>\n",
       "      <th>V5</th>\n",
       "      <th>V6</th>\n",
       "      <th>V7</th>\n",
       "      <th>V8</th>\n",
       "      <th>V9</th>\n",
       "      <th>...</th>\n",
       "      <th>V21</th>\n",
       "      <th>V22</th>\n",
       "      <th>V23</th>\n",
       "      <th>V24</th>\n",
       "      <th>V25</th>\n",
       "      <th>V26</th>\n",
       "      <th>V27</th>\n",
       "      <th>V28</th>\n",
       "      <th>Amount</th>\n",
       "      <th>Class</th>\n",
       "    </tr>\n",
       "  </thead>\n",
       "  <tbody>\n",
       "    <tr>\n",
       "      <th>count</th>\n",
       "      <td>492.000000</td>\n",
       "      <td>492.000000</td>\n",
       "      <td>492.000000</td>\n",
       "      <td>492.000000</td>\n",
       "      <td>492.000000</td>\n",
       "      <td>492.000000</td>\n",
       "      <td>492.000000</td>\n",
       "      <td>492.000000</td>\n",
       "      <td>492.000000</td>\n",
       "      <td>492.000000</td>\n",
       "      <td>...</td>\n",
       "      <td>492.000000</td>\n",
       "      <td>492.000000</td>\n",
       "      <td>492.000000</td>\n",
       "      <td>492.000000</td>\n",
       "      <td>492.000000</td>\n",
       "      <td>492.000000</td>\n",
       "      <td>492.000000</td>\n",
       "      <td>492.000000</td>\n",
       "      <td>492.000000</td>\n",
       "      <td>492.0</td>\n",
       "    </tr>\n",
       "    <tr>\n",
       "      <th>mean</th>\n",
       "      <td>80746.806911</td>\n",
       "      <td>-4.771948</td>\n",
       "      <td>3.623778</td>\n",
       "      <td>-7.033281</td>\n",
       "      <td>4.542029</td>\n",
       "      <td>-3.151225</td>\n",
       "      <td>-1.397737</td>\n",
       "      <td>-5.568731</td>\n",
       "      <td>0.570636</td>\n",
       "      <td>-2.581123</td>\n",
       "      <td>...</td>\n",
       "      <td>0.713588</td>\n",
       "      <td>0.014049</td>\n",
       "      <td>-0.040308</td>\n",
       "      <td>-0.105130</td>\n",
       "      <td>0.041449</td>\n",
       "      <td>0.051648</td>\n",
       "      <td>0.170575</td>\n",
       "      <td>0.075667</td>\n",
       "      <td>122.211321</td>\n",
       "      <td>1.0</td>\n",
       "    </tr>\n",
       "    <tr>\n",
       "      <th>std</th>\n",
       "      <td>47835.365138</td>\n",
       "      <td>6.783687</td>\n",
       "      <td>4.291216</td>\n",
       "      <td>7.110937</td>\n",
       "      <td>2.873318</td>\n",
       "      <td>5.372468</td>\n",
       "      <td>1.858124</td>\n",
       "      <td>7.206773</td>\n",
       "      <td>6.797831</td>\n",
       "      <td>2.500896</td>\n",
       "      <td>...</td>\n",
       "      <td>3.869304</td>\n",
       "      <td>1.494602</td>\n",
       "      <td>1.579642</td>\n",
       "      <td>0.515577</td>\n",
       "      <td>0.797205</td>\n",
       "      <td>0.471679</td>\n",
       "      <td>1.376766</td>\n",
       "      <td>0.547291</td>\n",
       "      <td>256.683288</td>\n",
       "      <td>0.0</td>\n",
       "    </tr>\n",
       "    <tr>\n",
       "      <th>min</th>\n",
       "      <td>406.000000</td>\n",
       "      <td>-30.552380</td>\n",
       "      <td>-8.402154</td>\n",
       "      <td>-31.103685</td>\n",
       "      <td>-1.313275</td>\n",
       "      <td>-22.105532</td>\n",
       "      <td>-6.406267</td>\n",
       "      <td>-43.557242</td>\n",
       "      <td>-41.044261</td>\n",
       "      <td>-13.434066</td>\n",
       "      <td>...</td>\n",
       "      <td>-22.797604</td>\n",
       "      <td>-8.887017</td>\n",
       "      <td>-19.254328</td>\n",
       "      <td>-2.028024</td>\n",
       "      <td>-4.781606</td>\n",
       "      <td>-1.152671</td>\n",
       "      <td>-7.263482</td>\n",
       "      <td>-1.869290</td>\n",
       "      <td>0.000000</td>\n",
       "      <td>1.0</td>\n",
       "    </tr>\n",
       "    <tr>\n",
       "      <th>25%</th>\n",
       "      <td>41241.500000</td>\n",
       "      <td>-6.036063</td>\n",
       "      <td>1.188226</td>\n",
       "      <td>-8.643489</td>\n",
       "      <td>2.373050</td>\n",
       "      <td>-4.792835</td>\n",
       "      <td>-2.501511</td>\n",
       "      <td>-7.965295</td>\n",
       "      <td>-0.195336</td>\n",
       "      <td>-3.872383</td>\n",
       "      <td>...</td>\n",
       "      <td>0.041787</td>\n",
       "      <td>-0.533764</td>\n",
       "      <td>-0.342175</td>\n",
       "      <td>-0.436809</td>\n",
       "      <td>-0.314348</td>\n",
       "      <td>-0.259416</td>\n",
       "      <td>-0.020025</td>\n",
       "      <td>-0.108868</td>\n",
       "      <td>1.000000</td>\n",
       "      <td>1.0</td>\n",
       "    </tr>\n",
       "    <tr>\n",
       "      <th>50%</th>\n",
       "      <td>75568.500000</td>\n",
       "      <td>-2.342497</td>\n",
       "      <td>2.717869</td>\n",
       "      <td>-5.075257</td>\n",
       "      <td>4.177147</td>\n",
       "      <td>-1.522962</td>\n",
       "      <td>-1.424616</td>\n",
       "      <td>-3.034402</td>\n",
       "      <td>0.621508</td>\n",
       "      <td>-2.208768</td>\n",
       "      <td>...</td>\n",
       "      <td>0.592146</td>\n",
       "      <td>0.048434</td>\n",
       "      <td>-0.073135</td>\n",
       "      <td>-0.060795</td>\n",
       "      <td>0.088371</td>\n",
       "      <td>0.004321</td>\n",
       "      <td>0.394926</td>\n",
       "      <td>0.146344</td>\n",
       "      <td>9.250000</td>\n",
       "      <td>1.0</td>\n",
       "    </tr>\n",
       "    <tr>\n",
       "      <th>75%</th>\n",
       "      <td>128483.000000</td>\n",
       "      <td>-0.419200</td>\n",
       "      <td>4.971257</td>\n",
       "      <td>-2.276185</td>\n",
       "      <td>6.348729</td>\n",
       "      <td>0.214562</td>\n",
       "      <td>-0.413216</td>\n",
       "      <td>-0.945954</td>\n",
       "      <td>1.764879</td>\n",
       "      <td>-0.787850</td>\n",
       "      <td>...</td>\n",
       "      <td>1.244611</td>\n",
       "      <td>0.617474</td>\n",
       "      <td>0.308378</td>\n",
       "      <td>0.285328</td>\n",
       "      <td>0.456515</td>\n",
       "      <td>0.396733</td>\n",
       "      <td>0.826029</td>\n",
       "      <td>0.381152</td>\n",
       "      <td>105.890000</td>\n",
       "      <td>1.0</td>\n",
       "    </tr>\n",
       "    <tr>\n",
       "      <th>max</th>\n",
       "      <td>170348.000000</td>\n",
       "      <td>2.132386</td>\n",
       "      <td>22.057729</td>\n",
       "      <td>2.250210</td>\n",
       "      <td>12.114672</td>\n",
       "      <td>11.095089</td>\n",
       "      <td>6.474115</td>\n",
       "      <td>5.802537</td>\n",
       "      <td>20.007208</td>\n",
       "      <td>3.353525</td>\n",
       "      <td>...</td>\n",
       "      <td>27.202839</td>\n",
       "      <td>8.361985</td>\n",
       "      <td>5.466230</td>\n",
       "      <td>1.091435</td>\n",
       "      <td>2.208209</td>\n",
       "      <td>2.745261</td>\n",
       "      <td>3.052358</td>\n",
       "      <td>1.779364</td>\n",
       "      <td>2125.870000</td>\n",
       "      <td>1.0</td>\n",
       "    </tr>\n",
       "  </tbody>\n",
       "</table>\n",
       "<p>8 rows × 31 columns</p>\n",
       "</div>"
      ],
      "text/plain": [
       "                Time          V1          V2          V3          V4  \\\n",
       "count     492.000000  492.000000  492.000000  492.000000  492.000000   \n",
       "mean    80746.806911   -4.771948    3.623778   -7.033281    4.542029   \n",
       "std     47835.365138    6.783687    4.291216    7.110937    2.873318   \n",
       "min       406.000000  -30.552380   -8.402154  -31.103685   -1.313275   \n",
       "25%     41241.500000   -6.036063    1.188226   -8.643489    2.373050   \n",
       "50%     75568.500000   -2.342497    2.717869   -5.075257    4.177147   \n",
       "75%    128483.000000   -0.419200    4.971257   -2.276185    6.348729   \n",
       "max    170348.000000    2.132386   22.057729    2.250210   12.114672   \n",
       "\n",
       "               V5          V6          V7          V8          V9  ...  \\\n",
       "count  492.000000  492.000000  492.000000  492.000000  492.000000  ...   \n",
       "mean    -3.151225   -1.397737   -5.568731    0.570636   -2.581123  ...   \n",
       "std      5.372468    1.858124    7.206773    6.797831    2.500896  ...   \n",
       "min    -22.105532   -6.406267  -43.557242  -41.044261  -13.434066  ...   \n",
       "25%     -4.792835   -2.501511   -7.965295   -0.195336   -3.872383  ...   \n",
       "50%     -1.522962   -1.424616   -3.034402    0.621508   -2.208768  ...   \n",
       "75%      0.214562   -0.413216   -0.945954    1.764879   -0.787850  ...   \n",
       "max     11.095089    6.474115    5.802537   20.007208    3.353525  ...   \n",
       "\n",
       "              V21         V22         V23         V24         V25         V26  \\\n",
       "count  492.000000  492.000000  492.000000  492.000000  492.000000  492.000000   \n",
       "mean     0.713588    0.014049   -0.040308   -0.105130    0.041449    0.051648   \n",
       "std      3.869304    1.494602    1.579642    0.515577    0.797205    0.471679   \n",
       "min    -22.797604   -8.887017  -19.254328   -2.028024   -4.781606   -1.152671   \n",
       "25%      0.041787   -0.533764   -0.342175   -0.436809   -0.314348   -0.259416   \n",
       "50%      0.592146    0.048434   -0.073135   -0.060795    0.088371    0.004321   \n",
       "75%      1.244611    0.617474    0.308378    0.285328    0.456515    0.396733   \n",
       "max     27.202839    8.361985    5.466230    1.091435    2.208209    2.745261   \n",
       "\n",
       "              V27         V28       Amount  Class  \n",
       "count  492.000000  492.000000   492.000000  492.0  \n",
       "mean     0.170575    0.075667   122.211321    1.0  \n",
       "std      1.376766    0.547291   256.683288    0.0  \n",
       "min     -7.263482   -1.869290     0.000000    1.0  \n",
       "25%     -0.020025   -0.108868     1.000000    1.0  \n",
       "50%      0.394926    0.146344     9.250000    1.0  \n",
       "75%      0.826029    0.381152   105.890000    1.0  \n",
       "max      3.052358    1.779364  2125.870000    1.0  \n",
       "\n",
       "[8 rows x 31 columns]"
      ]
     },
     "execution_count": 13,
     "metadata": {},
     "output_type": "execute_result"
    }
   ],
   "source": [
    "fraud.describe()"
   ]
  },
  {
   "cell_type": "code",
   "execution_count": 14,
   "id": "c6ce246b",
   "metadata": {
    "execution": {
     "iopub.execute_input": "2022-02-01T12:14:36.303316Z",
     "iopub.status.busy": "2022-02-01T12:14:36.302583Z",
     "iopub.status.idle": "2022-02-01T12:14:36.652079Z",
     "shell.execute_reply": "2022-02-01T12:14:36.651423Z",
     "shell.execute_reply.started": "2022-02-01T11:42:51.147628Z"
    },
    "papermill": {
     "duration": 0.39366,
     "end_time": "2022-02-01T12:14:36.652337",
     "exception": false,
     "start_time": "2022-02-01T12:14:36.258677",
     "status": "completed"
    },
    "tags": []
   },
   "outputs": [
    {
     "name": "stderr",
     "output_type": "stream",
     "text": [
      "/opt/conda/lib/python3.7/site-packages/seaborn/distributions.py:2619: FutureWarning: `distplot` is a deprecated function and will be removed in a future version. Please adapt your code to use either `displot` (a figure-level function with similar flexibility) or `histplot` (an axes-level function for histograms).\n",
      "  warnings.warn(msg, FutureWarning)\n"
     ]
    },
    {
     "data": {
      "text/plain": [
       "<AxesSubplot:xlabel='Amount', ylabel='Density'>"
      ]
     },
     "execution_count": 14,
     "metadata": {},
     "output_type": "execute_result"
    },
    {
     "data": {
      "image/png": "[encoded data removed]",
      "text/plain": [
       "<Figure size 1296x720 with 1 Axes>"
      ]
     },
     "metadata": {
      "needs_background": "light"
     },
     "output_type": "display_data"
    }
   ],
   "source": [
    "plt.figure(figsize=(18,10))\n",
    "sns.distplot(fraud[\"Amount\"])"
   ]
  },
  {
   "cell_type": "code",
   "execution_count": 15,
   "id": "d5b0d162",
   "metadata": {
    "execution": {
     "iopub.execute_input": "2022-02-01T12:14:36.755914Z",
     "iopub.status.busy": "2022-02-01T12:14:36.755261Z",
     "iopub.status.idle": "2022-02-01T12:14:37.250061Z",
     "shell.execute_reply": "2022-02-01T12:14:37.250588Z",
     "shell.execute_reply.started": "2022-02-01T11:43:05.086032Z"
    },
    "papermill": {
     "duration": 0.547643,
     "end_time": "2022-02-01T12:14:37.250784",
     "exception": false,
     "start_time": "2022-02-01T12:14:36.703141",
     "status": "completed"
    },
    "tags": []
   },
   "outputs": [
    {
     "data": {
      "text/html": [
       "<div>\n",
       "<style scoped>\n",
       "    .dataframe tbody tr th:only-of-type {\n",
       "        vertical-align: middle;\n",
       "    }\n",
       "\n",
       "    .dataframe tbody tr th {\n",
       "        vertical-align: top;\n",
       "    }\n",
       "\n",
       "    .dataframe thead th {\n",
       "        text-align: right;\n",
       "    }\n",
       "</style>\n",
       "<table border=\"1\" class=\"dataframe\">\n",
       "  <thead>\n",
       "    <tr style=\"text-align: right;\">\n",
       "      <th></th>\n",
       "      <th>Time</th>\n",
       "      <th>V1</th>\n",
       "      <th>V2</th>\n",
       "      <th>V3</th>\n",
       "      <th>V4</th>\n",
       "      <th>V5</th>\n",
       "      <th>V6</th>\n",
       "      <th>V7</th>\n",
       "      <th>V8</th>\n",
       "      <th>V9</th>\n",
       "      <th>...</th>\n",
       "      <th>V21</th>\n",
       "      <th>V22</th>\n",
       "      <th>V23</th>\n",
       "      <th>V24</th>\n",
       "      <th>V25</th>\n",
       "      <th>V26</th>\n",
       "      <th>V27</th>\n",
       "      <th>V28</th>\n",
       "      <th>Amount</th>\n",
       "      <th>Class</th>\n",
       "    </tr>\n",
       "  </thead>\n",
       "  <tbody>\n",
       "    <tr>\n",
       "      <th>count</th>\n",
       "      <td>284315.000000</td>\n",
       "      <td>284315.000000</td>\n",
       "      <td>284315.000000</td>\n",
       "      <td>284315.000000</td>\n",
       "      <td>284315.000000</td>\n",
       "      <td>284315.000000</td>\n",
       "      <td>284315.000000</td>\n",
       "      <td>284315.000000</td>\n",
       "      <td>284315.000000</td>\n",
       "      <td>284315.000000</td>\n",
       "      <td>...</td>\n",
       "      <td>284315.000000</td>\n",
       "      <td>284315.000000</td>\n",
       "      <td>284315.000000</td>\n",
       "      <td>284315.000000</td>\n",
       "      <td>284315.000000</td>\n",
       "      <td>284315.000000</td>\n",
       "      <td>284315.000000</td>\n",
       "      <td>284315.000000</td>\n",
       "      <td>284315.000000</td>\n",
       "      <td>284315.0</td>\n",
       "    </tr>\n",
       "    <tr>\n",
       "      <th>mean</th>\n",
       "      <td>94838.202258</td>\n",
       "      <td>0.008258</td>\n",
       "      <td>-0.006271</td>\n",
       "      <td>0.012171</td>\n",
       "      <td>-0.007860</td>\n",
       "      <td>0.005453</td>\n",
       "      <td>0.002419</td>\n",
       "      <td>0.009637</td>\n",
       "      <td>-0.000987</td>\n",
       "      <td>0.004467</td>\n",
       "      <td>...</td>\n",
       "      <td>-0.001235</td>\n",
       "      <td>-0.000024</td>\n",
       "      <td>0.000070</td>\n",
       "      <td>0.000182</td>\n",
       "      <td>-0.000072</td>\n",
       "      <td>-0.000089</td>\n",
       "      <td>-0.000295</td>\n",
       "      <td>-0.000131</td>\n",
       "      <td>88.291022</td>\n",
       "      <td>0.0</td>\n",
       "    </tr>\n",
       "    <tr>\n",
       "      <th>std</th>\n",
       "      <td>47484.015786</td>\n",
       "      <td>1.929814</td>\n",
       "      <td>1.636146</td>\n",
       "      <td>1.459429</td>\n",
       "      <td>1.399333</td>\n",
       "      <td>1.356952</td>\n",
       "      <td>1.329913</td>\n",
       "      <td>1.178812</td>\n",
       "      <td>1.161283</td>\n",
       "      <td>1.089372</td>\n",
       "      <td>...</td>\n",
       "      <td>0.716743</td>\n",
       "      <td>0.723668</td>\n",
       "      <td>0.621541</td>\n",
       "      <td>0.605776</td>\n",
       "      <td>0.520673</td>\n",
       "      <td>0.482241</td>\n",
       "      <td>0.399847</td>\n",
       "      <td>0.329570</td>\n",
       "      <td>250.105092</td>\n",
       "      <td>0.0</td>\n",
       "    </tr>\n",
       "    <tr>\n",
       "      <th>min</th>\n",
       "      <td>0.000000</td>\n",
       "      <td>-56.407510</td>\n",
       "      <td>-72.715728</td>\n",
       "      <td>-48.325589</td>\n",
       "      <td>-5.683171</td>\n",
       "      <td>-113.743307</td>\n",
       "      <td>-26.160506</td>\n",
       "      <td>-31.764946</td>\n",
       "      <td>-73.216718</td>\n",
       "      <td>-6.290730</td>\n",
       "      <td>...</td>\n",
       "      <td>-34.830382</td>\n",
       "      <td>-10.933144</td>\n",
       "      <td>-44.807735</td>\n",
       "      <td>-2.836627</td>\n",
       "      <td>-10.295397</td>\n",
       "      <td>-2.604551</td>\n",
       "      <td>-22.565679</td>\n",
       "      <td>-15.430084</td>\n",
       "      <td>0.000000</td>\n",
       "      <td>0.0</td>\n",
       "    </tr>\n",
       "    <tr>\n",
       "      <th>25%</th>\n",
       "      <td>54230.000000</td>\n",
       "      <td>-0.917544</td>\n",
       "      <td>-0.599473</td>\n",
       "      <td>-0.884541</td>\n",
       "      <td>-0.850077</td>\n",
       "      <td>-0.689398</td>\n",
       "      <td>-0.766847</td>\n",
       "      <td>-0.551442</td>\n",
       "      <td>-0.208633</td>\n",
       "      <td>-0.640412</td>\n",
       "      <td>...</td>\n",
       "      <td>-0.228509</td>\n",
       "      <td>-0.542403</td>\n",
       "      <td>-0.161702</td>\n",
       "      <td>-0.354425</td>\n",
       "      <td>-0.317145</td>\n",
       "      <td>-0.327074</td>\n",
       "      <td>-0.070852</td>\n",
       "      <td>-0.052950</td>\n",
       "      <td>5.650000</td>\n",
       "      <td>0.0</td>\n",
       "    </tr>\n",
       "    <tr>\n",
       "      <th>50%</th>\n",
       "      <td>84711.000000</td>\n",
       "      <td>0.020023</td>\n",
       "      <td>0.064070</td>\n",
       "      <td>0.182158</td>\n",
       "      <td>-0.022405</td>\n",
       "      <td>-0.053457</td>\n",
       "      <td>-0.273123</td>\n",
       "      <td>0.041138</td>\n",
       "      <td>0.022041</td>\n",
       "      <td>-0.049964</td>\n",
       "      <td>...</td>\n",
       "      <td>-0.029821</td>\n",
       "      <td>0.006736</td>\n",
       "      <td>-0.011147</td>\n",
       "      <td>0.041082</td>\n",
       "      <td>0.016417</td>\n",
       "      <td>-0.052227</td>\n",
       "      <td>0.001230</td>\n",
       "      <td>0.011199</td>\n",
       "      <td>22.000000</td>\n",
       "      <td>0.0</td>\n",
       "    </tr>\n",
       "    <tr>\n",
       "      <th>75%</th>\n",
       "      <td>139333.000000</td>\n",
       "      <td>1.316218</td>\n",
       "      <td>0.800446</td>\n",
       "      <td>1.028372</td>\n",
       "      <td>0.737624</td>\n",
       "      <td>0.612181</td>\n",
       "      <td>0.399619</td>\n",
       "      <td>0.571019</td>\n",
       "      <td>0.326200</td>\n",
       "      <td>0.598230</td>\n",
       "      <td>...</td>\n",
       "      <td>0.185626</td>\n",
       "      <td>0.528407</td>\n",
       "      <td>0.147522</td>\n",
       "      <td>0.439869</td>\n",
       "      <td>0.350594</td>\n",
       "      <td>0.240671</td>\n",
       "      <td>0.090573</td>\n",
       "      <td>0.077962</td>\n",
       "      <td>77.050000</td>\n",
       "      <td>0.0</td>\n",
       "    </tr>\n",
       "    <tr>\n",
       "      <th>max</th>\n",
       "      <td>172792.000000</td>\n",
       "      <td>2.454930</td>\n",
       "      <td>18.902453</td>\n",
       "      <td>9.382558</td>\n",
       "      <td>16.875344</td>\n",
       "      <td>34.801666</td>\n",
       "      <td>73.301626</td>\n",
       "      <td>120.589494</td>\n",
       "      <td>18.709255</td>\n",
       "      <td>15.594995</td>\n",
       "      <td>...</td>\n",
       "      <td>22.614889</td>\n",
       "      <td>10.503090</td>\n",
       "      <td>22.528412</td>\n",
       "      <td>4.584549</td>\n",
       "      <td>7.519589</td>\n",
       "      <td>3.517346</td>\n",
       "      <td>31.612198</td>\n",
       "      <td>33.847808</td>\n",
       "      <td>25691.160000</td>\n",
       "      <td>0.0</td>\n",
       "    </tr>\n",
       "  </tbody>\n",
       "</table>\n",
       "<p>8 rows × 31 columns</p>\n",
       "</div>"
      ],
      "text/plain": [
       "                Time             V1             V2             V3  \\\n",
       "count  284315.000000  284315.000000  284315.000000  284315.000000   \n",
       "mean    94838.202258       0.008258      -0.006271       0.012171   \n",
       "std     47484.015786       1.929814       1.636146       1.459429   \n",
       "min         0.000000     -56.407510     -72.715728     -48.325589   \n",
       "25%     54230.000000      -0.917544      -0.599473      -0.884541   \n",
       "50%     84711.000000       0.020023       0.064070       0.182158   \n",
       "75%    139333.000000       1.316218       0.800446       1.028372   \n",
       "max    172792.000000       2.454930      18.902453       9.382558   \n",
       "\n",
       "                  V4             V5             V6             V7  \\\n",
       "count  284315.000000  284315.000000  284315.000000  284315.000000   \n",
       "mean       -0.007860       0.005453       0.002419       0.009637   \n",
       "std         1.399333       1.356952       1.329913       1.178812   \n",
       "min        -5.683171    -113.743307     -26.160506     -31.764946   \n",
       "25%        -0.850077      -0.689398      -0.766847      -0.551442   \n",
       "50%        -0.022405      -0.053457      -0.273123       0.041138   \n",
       "75%         0.737624       0.612181       0.399619       0.571019   \n",
       "max        16.875344      34.801666      73.301626     120.589494   \n",
       "\n",
       "                  V8             V9  ...            V21            V22  \\\n",
       "count  284315.000000  284315.000000  ...  284315.000000  284315.000000   \n",
       "mean       -0.000987       0.004467  ...      -0.001235      -0.000024   \n",
       "std         1.161283       1.089372  ...       0.716743       0.723668   \n",
       "min       -73.216718      -6.290730  ...     -34.830382     -10.933144   \n",
       "25%        -0.208633      -0.640412  ...      -0.228509      -0.542403   \n",
       "50%         0.022041      -0.049964  ...      -0.029821       0.006736   \n",
       "75%         0.326200       0.598230  ...       0.185626       0.528407   \n",
       "max        18.709255      15.594995  ...      22.614889      10.503090   \n",
       "\n",
       "                 V23            V24            V25            V26  \\\n",
       "count  284315.000000  284315.000000  284315.000000  284315.000000   \n",
       "mean        0.000070       0.000182      -0.000072      -0.000089   \n",
       "std         0.621541       0.605776       0.520673       0.482241   \n",
       "min       -44.807735      -2.836627     -10.295397      -2.604551   \n",
       "25%        -0.161702      -0.354425      -0.317145      -0.327074   \n",
       "50%        -0.011147       0.041082       0.016417      -0.052227   \n",
       "75%         0.147522       0.439869       0.350594       0.240671   \n",
       "max        22.528412       4.584549       7.519589       3.517346   \n",
       "\n",
       "                 V27            V28         Amount     Class  \n",
       "count  284315.000000  284315.000000  284315.000000  284315.0  \n",
       "mean       -0.000295      -0.000131      88.291022       0.0  \n",
       "std         0.399847       0.329570     250.105092       0.0  \n",
       "min       -22.565679     -15.430084       0.000000       0.0  \n",
       "25%        -0.070852      -0.052950       5.650000       0.0  \n",
       "50%         0.001230       0.011199      22.000000       0.0  \n",
       "75%         0.090573       0.077962      77.050000       0.0  \n",
       "max        31.612198      33.847808   25691.160000       0.0  \n",
       "\n",
       "[8 rows x 31 columns]"
      ]
     },
     "execution_count": 15,
     "metadata": {},
     "output_type": "execute_result"
    }
   ],
   "source": [
    "legit.describe()"
   ]
  },
  {
   "cell_type": "code",
   "execution_count": 16,
   "id": "b242d3c9",
   "metadata": {
    "execution": {
     "iopub.execute_input": "2022-02-01T12:14:37.342437Z",
     "iopub.status.busy": "2022-02-01T12:14:37.341400Z",
     "iopub.status.idle": "2022-02-01T12:14:38.686800Z",
     "shell.execute_reply": "2022-02-01T12:14:38.686120Z",
     "shell.execute_reply.started": "2022-02-01T11:43:35.295897Z"
    },
    "papermill": {
     "duration": 1.393962,
     "end_time": "2022-02-01T12:14:38.686962",
     "exception": false,
     "start_time": "2022-02-01T12:14:37.293000",
     "status": "completed"
    },
    "tags": []
   },
   "outputs": [
    {
     "name": "stderr",
     "output_type": "stream",
     "text": [
      "/opt/conda/lib/python3.7/site-packages/seaborn/distributions.py:2619: FutureWarning: `distplot` is a deprecated function and will be removed in a future version. Please adapt your code to use either `displot` (a figure-level function with similar flexibility) or `histplot` (an axes-level function for histograms).\n",
      "  warnings.warn(msg, FutureWarning)\n"
     ]
    },
    {
     "data": {
      "text/plain": [
       "<AxesSubplot:xlabel='Amount', ylabel='Density'>"
      ]
     },
     "execution_count": 16,
     "metadata": {},
     "output_type": "execute_result"
    },
    {
     "data": {
      "image/png": "[encoded data removed]",
      "text/plain": [
       "<Figure size 1296x720 with 1 Axes>"
      ]
     },
     "metadata": {
      "needs_background": "light"
     },
     "output_type": "display_data"
    }
   ],
   "source": [
    "plt.figure(figsize=(18,10))\n",
    "sns.distplot(legit[\"Amount\"])"
   ]
  },
  {
   "cell_type": "code",
   "execution_count": 17,
   "id": "6fdc50fe",
   "metadata": {
    "execution": {
     "iopub.execute_input": "2022-02-01T12:14:38.777331Z",
     "iopub.status.busy": "2022-02-01T12:14:38.776642Z",
     "iopub.status.idle": "2022-02-01T12:14:38.785579Z",
     "shell.execute_reply": "2022-02-01T12:14:38.786038Z",
     "shell.execute_reply.started": "2022-02-01T11:43:36.469901Z"
    },
    "papermill": {
     "duration": 0.056114,
     "end_time": "2022-02-01T12:14:38.786236",
     "exception": false,
     "start_time": "2022-02-01T12:14:38.730122",
     "status": "completed"
    },
    "tags": []
   },
   "outputs": [],
   "source": [
    "legit = legit[(legit[\"Amount\"]>87.45) & (legit[\"Amount\"]<88.65)]"
   ]
  },
  {
   "cell_type": "code",
   "execution_count": 18,
   "id": "2768a521",
   "metadata": {
    "execution": {
     "iopub.execute_input": "2022-02-01T12:14:38.876320Z",
     "iopub.status.busy": "2022-02-01T12:14:38.875618Z",
     "iopub.status.idle": "2022-02-01T12:14:38.882092Z",
     "shell.execute_reply": "2022-02-01T12:14:38.882669Z",
     "shell.execute_reply.started": "2022-02-01T11:44:02.550099Z"
    },
    "papermill": {
     "duration": 0.053935,
     "end_time": "2022-02-01T12:14:38.882875",
     "exception": false,
     "start_time": "2022-02-01T12:14:38.828940",
     "status": "completed"
    },
    "tags": []
   },
   "outputs": [],
   "source": [
    "new_data = pd.concat([legit,fraud],axis=0)"
   ]
  },
  {
   "cell_type": "code",
   "execution_count": 19,
   "id": "364ad03b",
   "metadata": {
    "execution": {
     "iopub.execute_input": "2022-02-01T12:14:38.983807Z",
     "iopub.status.busy": "2022-02-01T12:14:38.976119Z",
     "iopub.status.idle": "2022-02-01T12:14:38.997656Z",
     "shell.execute_reply": "2022-02-01T12:14:38.998155Z",
     "shell.execute_reply.started": "2022-02-01T11:44:03.060445Z"
    },
    "papermill": {
     "duration": 0.073256,
     "end_time": "2022-02-01T12:14:38.998384",
     "exception": false,
     "start_time": "2022-02-01T12:14:38.925128",
     "status": "completed"
    },
    "tags": []
   },
   "outputs": [
    {
     "data": {
      "text/html": [
       "<div>\n",
       "<style scoped>\n",
       "    .dataframe tbody tr th:only-of-type {\n",
       "        vertical-align: middle;\n",
       "    }\n",
       "\n",
       "    .dataframe tbody tr th {\n",
       "        vertical-align: top;\n",
       "    }\n",
       "\n",
       "    .dataframe thead th {\n",
       "        text-align: right;\n",
       "    }\n",
       "</style>\n",
       "<table border=\"1\" class=\"dataframe\">\n",
       "  <thead>\n",
       "    <tr style=\"text-align: right;\">\n",
       "      <th></th>\n",
       "      <th>Time</th>\n",
       "      <th>V1</th>\n",
       "      <th>V2</th>\n",
       "      <th>V3</th>\n",
       "      <th>V4</th>\n",
       "      <th>V5</th>\n",
       "      <th>V6</th>\n",
       "      <th>V7</th>\n",
       "      <th>V8</th>\n",
       "      <th>V9</th>\n",
       "      <th>...</th>\n",
       "      <th>V21</th>\n",
       "      <th>V22</th>\n",
       "      <th>V23</th>\n",
       "      <th>V24</th>\n",
       "      <th>V25</th>\n",
       "      <th>V26</th>\n",
       "      <th>V27</th>\n",
       "      <th>V28</th>\n",
       "      <th>Amount</th>\n",
       "      <th>Class</th>\n",
       "    </tr>\n",
       "  </thead>\n",
       "  <tbody>\n",
       "    <tr>\n",
       "      <th>955</th>\n",
       "      <td>722.0</td>\n",
       "      <td>1.189777</td>\n",
       "      <td>-0.922777</td>\n",
       "      <td>0.309246</td>\n",
       "      <td>-0.823732</td>\n",
       "      <td>-0.953512</td>\n",
       "      <td>-0.066069</td>\n",
       "      <td>-0.756295</td>\n",
       "      <td>0.195650</td>\n",
       "      <td>-0.743775</td>\n",
       "      <td>...</td>\n",
       "      <td>-0.012271</td>\n",
       "      <td>-0.417832</td>\n",
       "      <td>0.063193</td>\n",
       "      <td>-0.366202</td>\n",
       "      <td>0.084168</td>\n",
       "      <td>-0.449981</td>\n",
       "      <td>-0.003629</td>\n",
       "      <td>0.015684</td>\n",
       "      <td>87.47</td>\n",
       "      <td>0</td>\n",
       "    </tr>\n",
       "    <tr>\n",
       "      <th>1454</th>\n",
       "      <td>1128.0</td>\n",
       "      <td>-0.964001</td>\n",
       "      <td>-0.332883</td>\n",
       "      <td>1.486165</td>\n",
       "      <td>-1.810314</td>\n",
       "      <td>-0.050375</td>\n",
       "      <td>-0.719618</td>\n",
       "      <td>0.332256</td>\n",
       "      <td>0.028339</td>\n",
       "      <td>-1.697726</td>\n",
       "      <td>...</td>\n",
       "      <td>0.360063</td>\n",
       "      <td>0.552115</td>\n",
       "      <td>-0.198206</td>\n",
       "      <td>0.006422</td>\n",
       "      <td>0.675127</td>\n",
       "      <td>-0.192833</td>\n",
       "      <td>-0.039786</td>\n",
       "      <td>0.049413</td>\n",
       "      <td>87.75</td>\n",
       "      <td>0</td>\n",
       "    </tr>\n",
       "  </tbody>\n",
       "</table>\n",
       "<p>2 rows × 31 columns</p>\n",
       "</div>"
      ],
      "text/plain": [
       "        Time        V1        V2        V3        V4        V5        V6  \\\n",
       "955    722.0  1.189777 -0.922777  0.309246 -0.823732 -0.953512 -0.066069   \n",
       "1454  1128.0 -0.964001 -0.332883  1.486165 -1.810314 -0.050375 -0.719618   \n",
       "\n",
       "            V7        V8        V9  ...       V21       V22       V23  \\\n",
       "955  -0.756295  0.195650 -0.743775  ... -0.012271 -0.417832  0.063193   \n",
       "1454  0.332256  0.028339 -1.697726  ...  0.360063  0.552115 -0.198206   \n",
       "\n",
       "           V24       V25       V26       V27       V28  Amount  Class  \n",
       "955  -0.366202  0.084168 -0.449981 -0.003629  0.015684   87.47      0  \n",
       "1454  0.006422  0.675127 -0.192833 -0.039786  0.049413   87.75      0  \n",
       "\n",
       "[2 rows x 31 columns]"
      ]
     },
     "execution_count": 19,
     "metadata": {},
     "output_type": "execute_result"
    }
   ],
   "source": [
    "new_data.head(2)"
   ]
  },
  {
   "cell_type": "markdown",
   "id": "132c1701",
   "metadata": {
    "papermill": {
     "duration": 0.043294,
     "end_time": "2022-02-01T12:14:39.085557",
     "exception": false,
     "start_time": "2022-02-01T12:14:39.042263",
     "status": "completed"
    },
    "tags": []
   },
   "source": [
    "# Splitting Features And Target"
   ]
  },
  {
   "cell_type": "code",
   "execution_count": 20,
   "id": "0a33b261",
   "metadata": {
    "execution": {
     "iopub.execute_input": "2022-02-01T12:14:39.178247Z",
     "iopub.status.busy": "2022-02-01T12:14:39.177224Z",
     "iopub.status.idle": "2022-02-01T12:14:39.183006Z",
     "shell.execute_reply": "2022-02-01T12:14:39.183556Z",
     "shell.execute_reply.started": "2022-02-01T11:44:04.112478Z"
    },
    "papermill": {
     "duration": 0.053183,
     "end_time": "2022-02-01T12:14:39.183761",
     "exception": false,
     "start_time": "2022-02-01T12:14:39.130578",
     "status": "completed"
    },
    "tags": []
   },
   "outputs": [],
   "source": [
    "X = new_data.drop(\"Class\",axis=1)\n",
    "y = new_data['Class']"
   ]
  },
  {
   "cell_type": "markdown",
   "id": "6c087d7c",
   "metadata": {
    "papermill": {
     "duration": 0.042958,
     "end_time": "2022-02-01T12:14:39.271347",
     "exception": false,
     "start_time": "2022-02-01T12:14:39.228389",
     "status": "completed"
    },
    "tags": []
   },
   "source": [
    "# Data Standardization"
   ]
  },
  {
   "cell_type": "code",
   "execution_count": 21,
   "id": "d087bcf3",
   "metadata": {
    "execution": {
     "iopub.execute_input": "2022-02-01T12:14:39.365926Z",
     "iopub.status.busy": "2022-02-01T12:14:39.364925Z",
     "iopub.status.idle": "2022-02-01T12:14:39.503304Z",
     "shell.execute_reply": "2022-02-01T12:14:39.502537Z",
     "shell.execute_reply.started": "2022-02-01T11:44:06.494482Z"
    },
    "papermill": {
     "duration": 0.186161,
     "end_time": "2022-02-01T12:14:39.503476",
     "exception": false,
     "start_time": "2022-02-01T12:14:39.317315",
     "status": "completed"
    },
    "tags": []
   },
   "outputs": [],
   "source": [
    "from sklearn.preprocessing import StandardScaler"
   ]
  },
  {
   "cell_type": "code",
   "execution_count": 22,
   "id": "c44eff50",
   "metadata": {
    "execution": {
     "iopub.execute_input": "2022-02-01T12:14:39.596343Z",
     "iopub.status.busy": "2022-02-01T12:14:39.595379Z",
     "iopub.status.idle": "2022-02-01T12:14:39.598571Z",
     "shell.execute_reply": "2022-02-01T12:14:39.598015Z",
     "shell.execute_reply.started": "2022-02-01T11:44:06.770730Z"
    },
    "papermill": {
     "duration": 0.051712,
     "end_time": "2022-02-01T12:14:39.598727",
     "exception": false,
     "start_time": "2022-02-01T12:14:39.547015",
     "status": "completed"
    },
    "tags": []
   },
   "outputs": [],
   "source": [
    "ss = StandardScaler()"
   ]
  },
  {
   "cell_type": "code",
   "execution_count": 23,
   "id": "ecc6bae1",
   "metadata": {
    "execution": {
     "iopub.execute_input": "2022-02-01T12:14:39.689228Z",
     "iopub.status.busy": "2022-02-01T12:14:39.688563Z",
     "iopub.status.idle": "2022-02-01T12:14:39.696611Z",
     "shell.execute_reply": "2022-02-01T12:14:39.697099Z",
     "shell.execute_reply.started": "2022-02-01T11:44:07.025619Z"
    },
    "papermill": {
     "duration": 0.055385,
     "end_time": "2022-02-01T12:14:39.697367",
     "exception": false,
     "start_time": "2022-02-01T12:14:39.641982",
     "status": "completed"
    },
    "tags": []
   },
   "outputs": [],
   "source": [
    "X = ss.fit_transform(X)"
   ]
  },
  {
   "cell_type": "markdown",
   "id": "9e1e1af6",
   "metadata": {
    "papermill": {
     "duration": 0.043485,
     "end_time": "2022-02-01T12:14:39.784604",
     "exception": false,
     "start_time": "2022-02-01T12:14:39.741119",
     "status": "completed"
    },
    "tags": []
   },
   "source": [
    "# Splitting Data"
   ]
  },
  {
   "cell_type": "code",
   "execution_count": 24,
   "id": "7ee201f8",
   "metadata": {
    "execution": {
     "iopub.execute_input": "2022-02-01T12:14:39.879760Z",
     "iopub.status.busy": "2022-02-01T12:14:39.879052Z",
     "iopub.status.idle": "2022-02-01T12:14:39.934752Z",
     "shell.execute_reply": "2022-02-01T12:14:39.935288Z",
     "shell.execute_reply.started": "2022-02-01T11:44:07.344572Z"
    },
    "papermill": {
     "duration": 0.106117,
     "end_time": "2022-02-01T12:14:39.935522",
     "exception": false,
     "start_time": "2022-02-01T12:14:39.829405",
     "status": "completed"
    },
    "tags": []
   },
   "outputs": [],
   "source": [
    "from sklearn.model_selection import train_test_split"
   ]
  },
  {
   "cell_type": "code",
   "execution_count": 25,
   "id": "7f762b6d",
   "metadata": {
    "execution": {
     "iopub.execute_input": "2022-02-01T12:14:40.029596Z",
     "iopub.status.busy": "2022-02-01T12:14:40.028893Z",
     "iopub.status.idle": "2022-02-01T12:14:40.034409Z",
     "shell.execute_reply": "2022-02-01T12:14:40.034898Z",
     "shell.execute_reply.started": "2022-02-01T11:44:07.595534Z"
    },
    "papermill": {
     "duration": 0.05263,
     "end_time": "2022-02-01T12:14:40.035126",
     "exception": false,
     "start_time": "2022-02-01T12:14:39.982496",
     "status": "completed"
    },
    "tags": []
   },
   "outputs": [],
   "source": [
    "X_train, X_test, y_train, y_test = train_test_split(X, y, test_size=0.3, random_state=42)"
   ]
  },
  {
   "cell_type": "markdown",
   "id": "c0262669",
   "metadata": {
    "papermill": {
     "duration": 0.044669,
     "end_time": "2022-02-01T12:14:40.124525",
     "exception": false,
     "start_time": "2022-02-01T12:14:40.079856",
     "status": "completed"
    },
    "tags": []
   },
   "source": [
    "# Ml Models"
   ]
  },
  {
   "cell_type": "markdown",
   "id": "f5fd7aeb",
   "metadata": {
    "papermill": {
     "duration": 0.044279,
     "end_time": "2022-02-01T12:14:40.212351",
     "exception": false,
     "start_time": "2022-02-01T12:14:40.168072",
     "status": "completed"
    },
    "tags": []
   },
   "source": [
    "## XGBoost\n",
    "## Random Forest"
   ]
  },
  {
   "cell_type": "code",
   "execution_count": 26,
   "id": "66500bec",
   "metadata": {
    "execution": {
     "iopub.execute_input": "2022-02-01T12:14:40.303808Z",
     "iopub.status.busy": "2022-02-01T12:14:40.303146Z",
     "iopub.status.idle": "2022-02-01T12:14:40.596831Z",
     "shell.execute_reply": "2022-02-01T12:14:40.597377Z",
     "shell.execute_reply.started": "2022-02-01T12:04:14.321237Z"
    },
    "papermill": {
     "duration": 0.340528,
     "end_time": "2022-02-01T12:14:40.597577",
     "exception": false,
     "start_time": "2022-02-01T12:14:40.257049",
     "status": "completed"
    },
    "tags": []
   },
   "outputs": [],
   "source": [
    "from sklearn.ensemble import RandomForestClassifier\n",
    "from xgboost import XGBClassifier"
   ]
  },
  {
   "cell_type": "code",
   "execution_count": 27,
   "id": "820bf70a",
   "metadata": {
    "execution": {
     "iopub.execute_input": "2022-02-01T12:14:40.690195Z",
     "iopub.status.busy": "2022-02-01T12:14:40.689579Z",
     "iopub.status.idle": "2022-02-01T12:14:40.693071Z",
     "shell.execute_reply": "2022-02-01T12:14:40.693575Z",
     "shell.execute_reply.started": "2022-02-01T12:04:14.729979Z"
    },
    "papermill": {
     "duration": 0.052827,
     "end_time": "2022-02-01T12:14:40.693740",
     "exception": false,
     "start_time": "2022-02-01T12:14:40.640913",
     "status": "completed"
    },
    "tags": []
   },
   "outputs": [],
   "source": [
    "ran_model = RandomForestClassifier(n_estimators=250)\n",
    "xgb = XGBClassifier(learning_rate=0.2)"
   ]
  },
  {
   "cell_type": "markdown",
   "id": "4115ef86",
   "metadata": {
    "papermill": {
     "duration": 0.043287,
     "end_time": "2022-02-01T12:14:40.779515",
     "exception": false,
     "start_time": "2022-02-01T12:14:40.736228",
     "status": "completed"
    },
    "tags": []
   },
   "source": [
    "# Training Models"
   ]
  },
  {
   "cell_type": "code",
   "execution_count": 28,
   "id": "26472466",
   "metadata": {
    "execution": {
     "iopub.execute_input": "2022-02-01T12:14:40.870378Z",
     "iopub.status.busy": "2022-02-01T12:14:40.869699Z",
     "iopub.status.idle": "2022-02-01T12:14:42.062032Z",
     "shell.execute_reply": "2022-02-01T12:14:42.062528Z",
     "shell.execute_reply.started": "2022-02-01T12:04:15.056573Z"
    },
    "papermill": {
     "duration": 1.240559,
     "end_time": "2022-02-01T12:14:42.062704",
     "exception": false,
     "start_time": "2022-02-01T12:14:40.822145",
     "status": "completed"
    },
    "tags": []
   },
   "outputs": [
    {
     "name": "stderr",
     "output_type": "stream",
     "text": [
      "/opt/conda/lib/python3.7/site-packages/xgboost/sklearn.py:1224: UserWarning: The use of label encoder in XGBClassifier is deprecated and will be removed in a future release. To remove this warning, do the following: 1) Pass option use_label_encoder=False when constructing XGBClassifier object; and 2) Encode your labels (y) as integers starting with 0, i.e. 0, 1, 2, ..., [num_class - 1].\n",
      "  warnings.warn(label_encoder_deprecation_msg, UserWarning)\n"
     ]
    },
    {
     "name": "stdout",
     "output_type": "stream",
     "text": [
      "[12:14:41] WARNING: ../src/learner.cc:1115: Starting in XGBoost 1.3.0, the default evaluation metric used with the objective 'binary:logistic' was changed from 'error' to 'logloss'. Explicitly set eval_metric if you'd like to restore the old behavior.\n"
     ]
    },
    {
     "data": {
      "text/plain": [
       "XGBClassifier(base_score=0.5, booster='gbtree', colsample_bylevel=1,\n",
       "              colsample_bynode=1, colsample_bytree=1, enable_categorical=False,\n",
       "              gamma=0, gpu_id=-1, importance_type=None,\n",
       "              interaction_constraints='', learning_rate=0.2, max_delta_step=0,\n",
       "              max_depth=6, min_child_weight=1, missing=nan,\n",
       "              monotone_constraints='()', n_estimators=100, n_jobs=4,\n",
       "              num_parallel_tree=1, predictor='auto', random_state=0,\n",
       "              reg_alpha=0, reg_lambda=1, scale_pos_weight=1, subsample=1,\n",
       "              tree_method='exact', validate_parameters=1, verbosity=None)"
      ]
     },
     "execution_count": 28,
     "metadata": {},
     "output_type": "execute_result"
    }
   ],
   "source": [
    "ran_model.fit(X_train,y_train)\n",
    "xgb.fit(X_train,y_train)"
   ]
  },
  {
   "cell_type": "markdown",
   "id": "bb60e450",
   "metadata": {
    "papermill": {
     "duration": 0.04344,
     "end_time": "2022-02-01T12:14:42.151752",
     "exception": false,
     "start_time": "2022-02-01T12:14:42.108312",
     "status": "completed"
    },
    "tags": []
   },
   "source": [
    "# Prediction"
   ]
  },
  {
   "cell_type": "code",
   "execution_count": 29,
   "id": "6d05ce17",
   "metadata": {
    "execution": {
     "iopub.execute_input": "2022-02-01T12:14:42.246126Z",
     "iopub.status.busy": "2022-02-01T12:14:42.245092Z",
     "iopub.status.idle": "2022-02-01T12:14:42.329790Z",
     "shell.execute_reply": "2022-02-01T12:14:42.330422Z",
     "shell.execute_reply.started": "2022-02-01T12:04:16.202678Z"
    },
    "papermill": {
     "duration": 0.134786,
     "end_time": "2022-02-01T12:14:42.330657",
     "exception": false,
     "start_time": "2022-02-01T12:14:42.195871",
     "status": "completed"
    },
    "tags": []
   },
   "outputs": [],
   "source": [
    "ran_pred_xtrain = ran_model.predict(X_train)\n",
    "ran_pred_xtest = ran_model.predict(X_test)\n",
    "xgb_pred_xtrain = xgb.predict(X_train)\n",
    "xgb_pred_xtest = xgb.predict(X_test)"
   ]
  },
  {
   "cell_type": "markdown",
   "id": "0f301bb2",
   "metadata": {
    "papermill": {
     "duration": 0.044013,
     "end_time": "2022-02-01T12:14:42.421120",
     "exception": false,
     "start_time": "2022-02-01T12:14:42.377107",
     "status": "completed"
    },
    "tags": []
   },
   "source": [
    "# Evaluation"
   ]
  },
  {
   "cell_type": "code",
   "execution_count": 30,
   "id": "abd6e132",
   "metadata": {
    "execution": {
     "iopub.execute_input": "2022-02-01T12:14:42.516153Z",
     "iopub.status.busy": "2022-02-01T12:14:42.515132Z",
     "iopub.status.idle": "2022-02-01T12:14:42.517579Z",
     "shell.execute_reply": "2022-02-01T12:14:42.518039Z",
     "shell.execute_reply.started": "2022-02-01T11:54:24.854014Z"
    },
    "papermill": {
     "duration": 0.052772,
     "end_time": "2022-02-01T12:14:42.518266",
     "exception": false,
     "start_time": "2022-02-01T12:14:42.465494",
     "status": "completed"
    },
    "tags": []
   },
   "outputs": [],
   "source": [
    "from sklearn.metrics import accuracy_score"
   ]
  },
  {
   "cell_type": "code",
   "execution_count": 31,
   "id": "86e0f177",
   "metadata": {
    "execution": {
     "iopub.execute_input": "2022-02-01T12:14:42.612354Z",
     "iopub.status.busy": "2022-02-01T12:14:42.611363Z",
     "iopub.status.idle": "2022-02-01T12:14:42.622227Z",
     "shell.execute_reply": "2022-02-01T12:14:42.623350Z",
     "shell.execute_reply.started": "2022-02-01T12:03:35.359243Z"
    },
    "papermill": {
     "duration": 0.060194,
     "end_time": "2022-02-01T12:14:42.623708",
     "exception": false,
     "start_time": "2022-02-01T12:14:42.563514",
     "status": "completed"
    },
    "tags": []
   },
   "outputs": [
    {
     "name": "stdout",
     "output_type": "stream",
     "text": [
      "XGBoost : X_Train : Accuracy :  1.0\n",
      "XGBoost : X_Train : Accuracy :  1.0\n",
      "Random Tree : X_Train : Accuracy :  1.0\n",
      "Random Tree : X_Test : Accuracy :  0.9935064935064936\n"
     ]
    }
   ],
   "source": [
    "print(\"XGBoost : X_Train : Accuracy : \",accuracy_score(y_train,xgb_pred_xtrain))\n",
    "print(\"XGBoost : X_Train : Accuracy : \",accuracy_score(y_test,xgb_pred_xtest))\n",
    "print(\"Random Tree : X_Train : Accuracy : \",accuracy_score(y_train,ran_pred_xtrain))\n",
    "print(\"Random Tree : X_Test : Accuracy : \",accuracy_score(y_test,ran_pred_xtest))"
   ]
  },
  {
   "cell_type": "markdown",
   "id": "135a79a2",
   "metadata": {
    "papermill": {
     "duration": 0.044275,
     "end_time": "2022-02-01T12:14:42.713265",
     "exception": false,
     "start_time": "2022-02-01T12:14:42.668990",
     "status": "completed"
    },
    "tags": []
   },
   "source": [
    "# Thank You "
   ]
  }
 ],
 "metadata": {
  "kernelspec": {
   "display_name": "Python 3",
   "language": "python",
   "name": "python3"
  },
  "language_info": {
   "codemirror_mode": {
    "name": "ipython",
    "version": 3
   },
   "file_extension": ".py",
   "mimetype": "text/x-python",
   "name": "python",
   "nbconvert_exporter": "python",
   "pygments_lexer": "ipython3",
   "version": "3.7.12"
  },
  "papermill": {
   "default_parameters": {},
   "duration": 27.518519,
   "end_time": "2022-02-01T12:14:43.569946",
   "environment_variables": {},
   "exception": null,
   "input_path": "__notebook__.ipynb",
   "output_path": "__notebook__.ipynb",
   "parameters": {},
   "start_time": "2022-02-01T12:14:16.051427",
   "version": "2.3.3"
  }
 },
 "nbformat": 4,
 "nbformat_minor": 5
}
