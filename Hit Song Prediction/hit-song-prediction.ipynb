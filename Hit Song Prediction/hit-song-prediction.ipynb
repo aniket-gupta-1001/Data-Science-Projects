{
 "cells": [
  {
   "cell_type": "markdown",
   "id": "06c91ba5",
   "metadata": {
    "papermill": {
     "duration": 0.027361,
     "end_time": "2022-01-29T11:36:32.927292",
     "exception": false,
     "start_time": "2022-01-29T11:36:32.899931",
     "status": "completed"
    },
    "tags": []
   },
   "source": [
    "# "
   ]
  },
  {
   "cell_type": "markdown",
   "id": "820a5e1d",
   "metadata": {
    "papermill": {
     "duration": 0.025682,
     "end_time": "2022-01-29T11:36:32.981124",
     "exception": false,
     "start_time": "2022-01-29T11:36:32.955442",
     "status": "completed"
    },
    "tags": []
   },
   "source": [
    "# Importing Basic Libraries"
   ]
  },
  {
   "cell_type": "code",
   "execution_count": 1,
   "id": "a0e7c854",
   "metadata": {
    "execution": {
     "iopub.execute_input": "2022-01-29T11:36:33.044420Z",
     "iopub.status.busy": "2022-01-29T11:36:33.043759Z",
     "iopub.status.idle": "2022-01-29T11:36:34.134281Z",
     "shell.execute_reply": "2022-01-29T11:36:34.133358Z",
     "shell.execute_reply.started": "2022-01-29T10:47:33.397054Z"
    },
    "papermill": {
     "duration": 1.126223,
     "end_time": "2022-01-29T11:36:34.134543",
     "exception": false,
     "start_time": "2022-01-29T11:36:33.008320",
     "status": "completed"
    },
    "tags": []
   },
   "outputs": [
    {
     "name": "stdout",
     "output_type": "stream",
     "text": [
      "Setup Complete\n"
     ]
    }
   ],
   "source": [
    "import numpy as np\n",
    "import pandas as pd\n",
    "import matplotlib.pyplot as plt\n",
    "import seaborn as sns\n",
    "%matplotlib inline\n",
    "print(\"Setup Complete\")\n"
   ]
  },
  {
   "cell_type": "code",
   "execution_count": 2,
   "id": "a347e91c",
   "metadata": {
    "execution": {
     "iopub.execute_input": "2022-01-29T11:36:34.191650Z",
     "iopub.status.busy": "2022-01-29T11:36:34.190862Z",
     "iopub.status.idle": "2022-01-29T11:36:34.462828Z",
     "shell.execute_reply": "2022-01-29T11:36:34.463350Z",
     "shell.execute_reply.started": "2022-01-29T10:47:33.665794Z"
    },
    "papermill": {
     "duration": 0.302105,
     "end_time": "2022-01-29T11:36:34.463608",
     "exception": false,
     "start_time": "2022-01-29T11:36:34.161503",
     "status": "completed"
    },
    "tags": []
   },
   "outputs": [],
   "source": [
    "#Loading Dataset\n",
    "song = pd.read_csv(\"../input/34740-hit-and-nonhit-songs-spotify-features/complete.csv\")"
   ]
  },
  {
   "cell_type": "code",
   "execution_count": 3,
   "id": "3589b4f0",
   "metadata": {
    "execution": {
     "iopub.execute_input": "2022-01-29T11:36:34.527162Z",
     "iopub.status.busy": "2022-01-29T11:36:34.526300Z",
     "iopub.status.idle": "2022-01-29T11:36:34.550734Z",
     "shell.execute_reply": "2022-01-29T11:36:34.551297Z",
     "shell.execute_reply.started": "2022-01-29T10:47:33.917123Z"
    },
    "papermill": {
     "duration": 0.061136,
     "end_time": "2022-01-29T11:36:34.551523",
     "exception": false,
     "start_time": "2022-01-29T11:36:34.490387",
     "status": "completed"
    },
    "tags": []
   },
   "outputs": [
    {
     "data": {
      "text/html": [
       "<div>\n",
       "<style scoped>\n",
       "    .dataframe tbody tr th:only-of-type {\n",
       "        vertical-align: middle;\n",
       "    }\n",
       "\n",
       "    .dataframe tbody tr th {\n",
       "        vertical-align: top;\n",
       "    }\n",
       "\n",
       "    .dataframe thead th {\n",
       "        text-align: right;\n",
       "    }\n",
       "</style>\n",
       "<table border=\"1\" class=\"dataframe\">\n",
       "  <thead>\n",
       "    <tr style=\"text-align: right;\">\n",
       "      <th></th>\n",
       "      <th>track_title</th>\n",
       "      <th>artist_name</th>\n",
       "      <th>track_id</th>\n",
       "      <th>duration_ms</th>\n",
       "      <th>energy</th>\n",
       "      <th>key</th>\n",
       "      <th>mode</th>\n",
       "      <th>time_signature</th>\n",
       "      <th>acousticness</th>\n",
       "      <th>danceability</th>\n",
       "      <th>instrumentalness</th>\n",
       "      <th>liveness</th>\n",
       "      <th>loudness</th>\n",
       "      <th>speechiness</th>\n",
       "      <th>valence</th>\n",
       "      <th>tempo</th>\n",
       "      <th>On_chart</th>\n",
       "    </tr>\n",
       "  </thead>\n",
       "  <tbody>\n",
       "    <tr>\n",
       "      <th>0</th>\n",
       "      <td>Red Planet - Red Planet Radio</td>\n",
       "      <td>Joe</td>\n",
       "      <td>3FeufAV1f6fajILIQuAXMw</td>\n",
       "      <td>256080</td>\n",
       "      <td>0.968</td>\n",
       "      <td>7</td>\n",
       "      <td>0</td>\n",
       "      <td>4</td>\n",
       "      <td>0.02150</td>\n",
       "      <td>0.698</td>\n",
       "      <td>0.862</td>\n",
       "      <td>0.1110</td>\n",
       "      <td>-11.012</td>\n",
       "      <td>0.0337</td>\n",
       "      <td>0.3900</td>\n",
       "      <td>136.884</td>\n",
       "      <td>0</td>\n",
       "    </tr>\n",
       "    <tr>\n",
       "      <th>1</th>\n",
       "      <td>Red Planet - Red Planet Extended</td>\n",
       "      <td>Joe</td>\n",
       "      <td>2o7oYjZuo3S2QitY4R5dII</td>\n",
       "      <td>395442</td>\n",
       "      <td>0.970</td>\n",
       "      <td>2</td>\n",
       "      <td>1</td>\n",
       "      <td>4</td>\n",
       "      <td>0.00339</td>\n",
       "      <td>0.724</td>\n",
       "      <td>0.896</td>\n",
       "      <td>0.1060</td>\n",
       "      <td>-8.415</td>\n",
       "      <td>0.0358</td>\n",
       "      <td>0.4320</td>\n",
       "      <td>136.868</td>\n",
       "      <td>0</td>\n",
       "    </tr>\n",
       "    <tr>\n",
       "      <th>2</th>\n",
       "      <td>Basejump</td>\n",
       "      <td>Robin Schulz</td>\n",
       "      <td>6nWoNNkfffbmHU9z3kGPao</td>\n",
       "      <td>391680</td>\n",
       "      <td>0.406</td>\n",
       "      <td>5</td>\n",
       "      <td>0</td>\n",
       "      <td>4</td>\n",
       "      <td>0.00433</td>\n",
       "      <td>0.803</td>\n",
       "      <td>0.825</td>\n",
       "      <td>0.0948</td>\n",
       "      <td>-9.444</td>\n",
       "      <td>0.0608</td>\n",
       "      <td>0.0769</td>\n",
       "      <td>125.014</td>\n",
       "      <td>0</td>\n",
       "    </tr>\n",
       "  </tbody>\n",
       "</table>\n",
       "</div>"
      ],
      "text/plain": [
       "                        track_title   artist_name                track_id  \\\n",
       "0     Red Planet - Red Planet Radio           Joe  3FeufAV1f6fajILIQuAXMw   \n",
       "1  Red Planet - Red Planet Extended           Joe  2o7oYjZuo3S2QitY4R5dII   \n",
       "2                          Basejump  Robin Schulz  6nWoNNkfffbmHU9z3kGPao   \n",
       "\n",
       "   duration_ms  energy  key  mode  time_signature  acousticness  danceability  \\\n",
       "0       256080   0.968    7     0               4       0.02150         0.698   \n",
       "1       395442   0.970    2     1               4       0.00339         0.724   \n",
       "2       391680   0.406    5     0               4       0.00433         0.803   \n",
       "\n",
       "   instrumentalness  liveness  loudness  speechiness  valence    tempo  \\\n",
       "0             0.862    0.1110   -11.012       0.0337   0.3900  136.884   \n",
       "1             0.896    0.1060    -8.415       0.0358   0.4320  136.868   \n",
       "2             0.825    0.0948    -9.444       0.0608   0.0769  125.014   \n",
       "\n",
       "   On_chart  \n",
       "0         0  \n",
       "1         0  \n",
       "2         0  "
      ]
     },
     "execution_count": 3,
     "metadata": {},
     "output_type": "execute_result"
    }
   ],
   "source": [
    "song.head(3)"
   ]
  },
  {
   "cell_type": "markdown",
   "id": "adc50941",
   "metadata": {
    "papermill": {
     "duration": 0.026674,
     "end_time": "2022-01-29T11:36:34.605215",
     "exception": false,
     "start_time": "2022-01-29T11:36:34.578541",
     "status": "completed"
    },
    "tags": []
   },
   "source": [
    "# Data Exploration And Pre-Processing"
   ]
  },
  {
   "cell_type": "code",
   "execution_count": 4,
   "id": "60f0022e",
   "metadata": {
    "execution": {
     "iopub.execute_input": "2022-01-29T11:36:34.673294Z",
     "iopub.status.busy": "2022-01-29T11:36:34.662640Z",
     "iopub.status.idle": "2022-01-29T11:36:34.678274Z",
     "shell.execute_reply": "2022-01-29T11:36:34.678926Z",
     "shell.execute_reply.started": "2022-01-29T10:47:34.287168Z"
    },
    "papermill": {
     "duration": 0.046891,
     "end_time": "2022-01-29T11:36:34.679138",
     "exception": false,
     "start_time": "2022-01-29T11:36:34.632247",
     "status": "completed"
    },
    "tags": []
   },
   "outputs": [
    {
     "data": {
      "text/plain": [
       "10767"
      ]
     },
     "execution_count": 4,
     "metadata": {},
     "output_type": "execute_result"
    }
   ],
   "source": [
    "# Total Number Of Unique Artists. \n",
    "song[\"artist_name\"].nunique()"
   ]
  },
  {
   "cell_type": "code",
   "execution_count": 5,
   "id": "81cbce17",
   "metadata": {
    "execution": {
     "iopub.execute_input": "2022-01-29T11:36:34.738606Z",
     "iopub.status.busy": "2022-01-29T11:36:34.737879Z",
     "iopub.status.idle": "2022-01-29T11:36:34.753124Z",
     "shell.execute_reply": "2022-01-29T11:36:34.752563Z",
     "shell.execute_reply.started": "2022-01-29T10:47:34.501396Z"
    },
    "papermill": {
     "duration": 0.045922,
     "end_time": "2022-01-29T11:36:34.753286",
     "exception": false,
     "start_time": "2022-01-29T11:36:34.707364",
     "status": "completed"
    },
    "tags": []
   },
   "outputs": [
    {
     "data": {
      "text/plain": [
       "4810"
      ]
     },
     "execution_count": 5,
     "metadata": {},
     "output_type": "execute_result"
    }
   ],
   "source": [
    "# Number Of Artists Who produced Hit Song.\n",
    "song[song[\"On_chart\"]==1]['artist_name'].nunique()"
   ]
  },
  {
   "cell_type": "code",
   "execution_count": 6,
   "id": "9b5df7df",
   "metadata": {
    "execution": {
     "iopub.execute_input": "2022-01-29T11:36:34.814316Z",
     "iopub.status.busy": "2022-01-29T11:36:34.813579Z",
     "iopub.status.idle": "2022-01-29T11:36:34.843384Z",
     "shell.execute_reply": "2022-01-29T11:36:34.843923Z",
     "shell.execute_reply.started": "2022-01-29T10:47:34.722157Z"
    },
    "papermill": {
     "duration": 0.063229,
     "end_time": "2022-01-29T11:36:34.844120",
     "exception": false,
     "start_time": "2022-01-29T11:36:34.780891",
     "status": "completed"
    },
    "tags": []
   },
   "outputs": [
    {
     "name": "stdout",
     "output_type": "stream",
     "text": [
      "<class 'pandas.core.frame.DataFrame'>\n",
      "RangeIndex: 34740 entries, 0 to 34739\n",
      "Data columns (total 17 columns):\n",
      " #   Column            Non-Null Count  Dtype  \n",
      "---  ------            --------------  -----  \n",
      " 0   track_title       34739 non-null  object \n",
      " 1   artist_name       34739 non-null  object \n",
      " 2   track_id          34740 non-null  object \n",
      " 3   duration_ms       34740 non-null  int64  \n",
      " 4   energy            34740 non-null  float64\n",
      " 5   key               34740 non-null  int64  \n",
      " 6   mode              34740 non-null  int64  \n",
      " 7   time_signature    34740 non-null  int64  \n",
      " 8   acousticness      34740 non-null  float64\n",
      " 9   danceability      34740 non-null  float64\n",
      " 10  instrumentalness  34740 non-null  float64\n",
      " 11  liveness          34740 non-null  float64\n",
      " 12  loudness          34740 non-null  float64\n",
      " 13  speechiness       34740 non-null  float64\n",
      " 14  valence           34740 non-null  float64\n",
      " 15  tempo             34740 non-null  float64\n",
      " 16  On_chart          34740 non-null  int64  \n",
      "dtypes: float64(9), int64(5), object(3)\n",
      "memory usage: 4.5+ MB\n"
     ]
    }
   ],
   "source": [
    "song.info()"
   ]
  },
  {
   "cell_type": "code",
   "execution_count": 7,
   "id": "2d224c39",
   "metadata": {
    "execution": {
     "iopub.execute_input": "2022-01-29T11:36:34.904357Z",
     "iopub.status.busy": "2022-01-29T11:36:34.903616Z",
     "iopub.status.idle": "2022-01-29T11:36:34.973749Z",
     "shell.execute_reply": "2022-01-29T11:36:34.973179Z",
     "shell.execute_reply.started": "2022-01-29T10:47:34.955965Z"
    },
    "papermill": {
     "duration": 0.101913,
     "end_time": "2022-01-29T11:36:34.973911",
     "exception": false,
     "start_time": "2022-01-29T11:36:34.871998",
     "status": "completed"
    },
    "tags": []
   },
   "outputs": [
    {
     "data": {
      "text/html": [
       "<div>\n",
       "<style scoped>\n",
       "    .dataframe tbody tr th:only-of-type {\n",
       "        vertical-align: middle;\n",
       "    }\n",
       "\n",
       "    .dataframe tbody tr th {\n",
       "        vertical-align: top;\n",
       "    }\n",
       "\n",
       "    .dataframe thead th {\n",
       "        text-align: right;\n",
       "    }\n",
       "</style>\n",
       "<table border=\"1\" class=\"dataframe\">\n",
       "  <thead>\n",
       "    <tr style=\"text-align: right;\">\n",
       "      <th></th>\n",
       "      <th>duration_ms</th>\n",
       "      <th>energy</th>\n",
       "      <th>key</th>\n",
       "      <th>mode</th>\n",
       "      <th>time_signature</th>\n",
       "      <th>acousticness</th>\n",
       "      <th>danceability</th>\n",
       "      <th>instrumentalness</th>\n",
       "      <th>liveness</th>\n",
       "      <th>loudness</th>\n",
       "      <th>speechiness</th>\n",
       "      <th>valence</th>\n",
       "      <th>tempo</th>\n",
       "      <th>On_chart</th>\n",
       "    </tr>\n",
       "  </thead>\n",
       "  <tbody>\n",
       "    <tr>\n",
       "      <th>count</th>\n",
       "      <td>3.474000e+04</td>\n",
       "      <td>34740.000000</td>\n",
       "      <td>34740.000000</td>\n",
       "      <td>34740.000000</td>\n",
       "      <td>34740.000000</td>\n",
       "      <td>34740.000000</td>\n",
       "      <td>34740.000000</td>\n",
       "      <td>34740.000000</td>\n",
       "      <td>34740.000000</td>\n",
       "      <td>34740.000000</td>\n",
       "      <td>34740.000000</td>\n",
       "      <td>34740.000000</td>\n",
       "      <td>34740.000000</td>\n",
       "      <td>34740.000000</td>\n",
       "    </tr>\n",
       "    <tr>\n",
       "      <th>mean</th>\n",
       "      <td>2.189765e+05</td>\n",
       "      <td>0.595010</td>\n",
       "      <td>5.256477</td>\n",
       "      <td>0.646488</td>\n",
       "      <td>3.905325</td>\n",
       "      <td>0.288852</td>\n",
       "      <td>0.601277</td>\n",
       "      <td>0.184090</td>\n",
       "      <td>0.189592</td>\n",
       "      <td>-9.920885</td>\n",
       "      <td>0.096678</td>\n",
       "      <td>0.510255</td>\n",
       "      <td>119.940155</td>\n",
       "      <td>0.501583</td>\n",
       "    </tr>\n",
       "    <tr>\n",
       "      <th>std</th>\n",
       "      <td>1.208879e+05</td>\n",
       "      <td>0.237959</td>\n",
       "      <td>3.604624</td>\n",
       "      <td>0.478067</td>\n",
       "      <td>0.472741</td>\n",
       "      <td>0.309841</td>\n",
       "      <td>0.180962</td>\n",
       "      <td>0.337521</td>\n",
       "      <td>0.164997</td>\n",
       "      <td>5.733902</td>\n",
       "      <td>0.113405</td>\n",
       "      <td>0.268062</td>\n",
       "      <td>29.146159</td>\n",
       "      <td>0.500005</td>\n",
       "    </tr>\n",
       "    <tr>\n",
       "      <th>min</th>\n",
       "      <td>3.203000e+03</td>\n",
       "      <td>0.000000</td>\n",
       "      <td>0.000000</td>\n",
       "      <td>0.000000</td>\n",
       "      <td>0.000000</td>\n",
       "      <td>0.000000</td>\n",
       "      <td>0.000000</td>\n",
       "      <td>0.000000</td>\n",
       "      <td>0.000000</td>\n",
       "      <td>-60.000000</td>\n",
       "      <td>0.000000</td>\n",
       "      <td>0.000000</td>\n",
       "      <td>0.000000</td>\n",
       "      <td>0.000000</td>\n",
       "    </tr>\n",
       "    <tr>\n",
       "      <th>25%</th>\n",
       "      <td>1.739705e+05</td>\n",
       "      <td>0.445000</td>\n",
       "      <td>2.000000</td>\n",
       "      <td>0.000000</td>\n",
       "      <td>4.000000</td>\n",
       "      <td>0.029900</td>\n",
       "      <td>0.499000</td>\n",
       "      <td>0.000000</td>\n",
       "      <td>0.092900</td>\n",
       "      <td>-12.173000</td>\n",
       "      <td>0.035400</td>\n",
       "      <td>0.299000</td>\n",
       "      <td>99.019000</td>\n",
       "      <td>0.000000</td>\n",
       "    </tr>\n",
       "    <tr>\n",
       "      <th>50%</th>\n",
       "      <td>2.120000e+05</td>\n",
       "      <td>0.624000</td>\n",
       "      <td>5.000000</td>\n",
       "      <td>1.000000</td>\n",
       "      <td>4.000000</td>\n",
       "      <td>0.160000</td>\n",
       "      <td>0.624000</td>\n",
       "      <td>0.000069</td>\n",
       "      <td>0.123000</td>\n",
       "      <td>-8.554000</td>\n",
       "      <td>0.049200</td>\n",
       "      <td>0.514000</td>\n",
       "      <td>120.016000</td>\n",
       "      <td>1.000000</td>\n",
       "    </tr>\n",
       "    <tr>\n",
       "      <th>75%</th>\n",
       "      <td>2.516735e+05</td>\n",
       "      <td>0.781000</td>\n",
       "      <td>8.000000</td>\n",
       "      <td>1.000000</td>\n",
       "      <td>4.000000</td>\n",
       "      <td>0.482000</td>\n",
       "      <td>0.733000</td>\n",
       "      <td>0.105000</td>\n",
       "      <td>0.231000</td>\n",
       "      <td>-6.017000</td>\n",
       "      <td>0.097100</td>\n",
       "      <td>0.729000</td>\n",
       "      <td>137.025750</td>\n",
       "      <td>1.000000</td>\n",
       "    </tr>\n",
       "    <tr>\n",
       "      <th>max</th>\n",
       "      <td>5.610020e+06</td>\n",
       "      <td>1.000000</td>\n",
       "      <td>11.000000</td>\n",
       "      <td>1.000000</td>\n",
       "      <td>5.000000</td>\n",
       "      <td>0.996000</td>\n",
       "      <td>0.988000</td>\n",
       "      <td>1.000000</td>\n",
       "      <td>0.999000</td>\n",
       "      <td>2.291000</td>\n",
       "      <td>0.966000</td>\n",
       "      <td>1.000000</td>\n",
       "      <td>247.951000</td>\n",
       "      <td>1.000000</td>\n",
       "    </tr>\n",
       "  </tbody>\n",
       "</table>\n",
       "</div>"
      ],
      "text/plain": [
       "        duration_ms        energy           key          mode  time_signature  \\\n",
       "count  3.474000e+04  34740.000000  34740.000000  34740.000000    34740.000000   \n",
       "mean   2.189765e+05      0.595010      5.256477      0.646488        3.905325   \n",
       "std    1.208879e+05      0.237959      3.604624      0.478067        0.472741   \n",
       "min    3.203000e+03      0.000000      0.000000      0.000000        0.000000   \n",
       "25%    1.739705e+05      0.445000      2.000000      0.000000        4.000000   \n",
       "50%    2.120000e+05      0.624000      5.000000      1.000000        4.000000   \n",
       "75%    2.516735e+05      0.781000      8.000000      1.000000        4.000000   \n",
       "max    5.610020e+06      1.000000     11.000000      1.000000        5.000000   \n",
       "\n",
       "       acousticness  danceability  instrumentalness      liveness  \\\n",
       "count  34740.000000  34740.000000      34740.000000  34740.000000   \n",
       "mean       0.288852      0.601277          0.184090      0.189592   \n",
       "std        0.309841      0.180962          0.337521      0.164997   \n",
       "min        0.000000      0.000000          0.000000      0.000000   \n",
       "25%        0.029900      0.499000          0.000000      0.092900   \n",
       "50%        0.160000      0.624000          0.000069      0.123000   \n",
       "75%        0.482000      0.733000          0.105000      0.231000   \n",
       "max        0.996000      0.988000          1.000000      0.999000   \n",
       "\n",
       "           loudness   speechiness       valence         tempo      On_chart  \n",
       "count  34740.000000  34740.000000  34740.000000  34740.000000  34740.000000  \n",
       "mean      -9.920885      0.096678      0.510255    119.940155      0.501583  \n",
       "std        5.733902      0.113405      0.268062     29.146159      0.500005  \n",
       "min      -60.000000      0.000000      0.000000      0.000000      0.000000  \n",
       "25%      -12.173000      0.035400      0.299000     99.019000      0.000000  \n",
       "50%       -8.554000      0.049200      0.514000    120.016000      1.000000  \n",
       "75%       -6.017000      0.097100      0.729000    137.025750      1.000000  \n",
       "max        2.291000      0.966000      1.000000    247.951000      1.000000  "
      ]
     },
     "execution_count": 7,
     "metadata": {},
     "output_type": "execute_result"
    }
   ],
   "source": [
    "song.describe()\n",
    "# So as we Can See There Are Some Outliers IN the Data fro column outliers"
   ]
  },
  {
   "cell_type": "code",
   "execution_count": 8,
   "id": "9986b15a",
   "metadata": {
    "execution": {
     "iopub.execute_input": "2022-01-29T11:36:35.038786Z",
     "iopub.status.busy": "2022-01-29T11:36:35.036099Z",
     "iopub.status.idle": "2022-01-29T11:36:37.228766Z",
     "shell.execute_reply": "2022-01-29T11:36:37.229293Z",
     "shell.execute_reply.started": "2022-01-29T10:47:35.09696Z"
    },
    "papermill": {
     "duration": 2.225917,
     "end_time": "2022-01-29T11:36:37.229517",
     "exception": false,
     "start_time": "2022-01-29T11:36:35.003600",
     "status": "completed"
    },
    "tags": []
   },
   "outputs": [
    {
     "data": {
      "text/plain": [
       "<AxesSubplot:xlabel='loudness', ylabel='danceability'>"
      ]
     },
     "execution_count": 8,
     "metadata": {},
     "output_type": "execute_result"
    },
    {
     "data": {
      "image/png": "[encoded data removed]",
      "text/plain": [
       "<Figure size 432x288 with 1 Axes>"
      ]
     },
     "metadata": {
      "needs_background": "light"
     },
     "output_type": "display_data"
    }
   ],
   "source": [
    "sns.scatterplot(x='loudness',y='danceability',hue='On_chart',data=song)"
   ]
  },
  {
   "cell_type": "code",
   "execution_count": 9,
   "id": "e6fe6c8b",
   "metadata": {
    "execution": {
     "iopub.execute_input": "2022-01-29T11:36:37.300121Z",
     "iopub.status.busy": "2022-01-29T11:36:37.299122Z",
     "iopub.status.idle": "2022-01-29T11:36:39.427003Z",
     "shell.execute_reply": "2022-01-29T11:36:39.427491Z",
     "shell.execute_reply.started": "2022-01-29T10:47:37.236681Z"
    },
    "papermill": {
     "duration": 2.163936,
     "end_time": "2022-01-29T11:36:39.427685",
     "exception": false,
     "start_time": "2022-01-29T11:36:37.263749",
     "status": "completed"
    },
    "tags": []
   },
   "outputs": [
    {
     "data": {
      "text/plain": [
       "<AxesSubplot:xlabel='loudness', ylabel='energy'>"
      ]
     },
     "execution_count": 9,
     "metadata": {},
     "output_type": "execute_result"
    },
    {
     "data": {
      "image/png": "[encoded data removed]",
      "text/plain": [
       "<Figure size 432x288 with 1 Axes>"
      ]
     },
     "metadata": {
      "needs_background": "light"
     },
     "output_type": "display_data"
    }
   ],
   "source": [
    "sns.scatterplot(x='loudness',y='energy',hue='On_chart',data=song)"
   ]
  },
  {
   "cell_type": "code",
   "execution_count": 10,
   "id": "d731c66e",
   "metadata": {
    "execution": {
     "iopub.execute_input": "2022-01-29T11:36:39.504092Z",
     "iopub.status.busy": "2022-01-29T11:36:39.502963Z",
     "iopub.status.idle": "2022-01-29T11:36:39.991805Z",
     "shell.execute_reply": "2022-01-29T11:36:39.992283Z",
     "shell.execute_reply.started": "2022-01-29T10:47:39.347926Z"
    },
    "papermill": {
     "duration": 0.529911,
     "end_time": "2022-01-29T11:36:39.992476",
     "exception": false,
     "start_time": "2022-01-29T11:36:39.462565",
     "status": "completed"
    },
    "tags": []
   },
   "outputs": [
    {
     "data": {
      "text/plain": [
       "<AxesSubplot:>"
      ]
     },
     "execution_count": 10,
     "metadata": {},
     "output_type": "execute_result"
    },
    {
     "data": {
      "image/png": "[encoded data removed]",
      "text/plain": [
       "<Figure size 432x288 with 2 Axes>"
      ]
     },
     "metadata": {
      "needs_background": "light"
     },
     "output_type": "display_data"
    }
   ],
   "source": [
    "sns.heatmap(song.corr(),cmap='magma',linecolor='black',linewidth=0.8)"
   ]
  },
  {
   "cell_type": "code",
   "execution_count": 11,
   "id": "f85ac021",
   "metadata": {
    "execution": {
     "iopub.execute_input": "2022-01-29T11:36:40.071942Z",
     "iopub.status.busy": "2022-01-29T11:36:40.071183Z",
     "iopub.status.idle": "2022-01-29T11:36:40.231544Z",
     "shell.execute_reply": "2022-01-29T11:36:40.232032Z",
     "shell.execute_reply.started": "2022-01-29T10:47:39.853083Z"
    },
    "papermill": {
     "duration": 0.201284,
     "end_time": "2022-01-29T11:36:40.232212",
     "exception": false,
     "start_time": "2022-01-29T11:36:40.030928",
     "status": "completed"
    },
    "tags": []
   },
   "outputs": [
    {
     "name": "stdout",
     "output_type": "stream",
     "text": [
      "Total Songs Below -40 Loudness:  47\n"
     ]
    },
    {
     "name": "stderr",
     "output_type": "stream",
     "text": [
      "/opt/conda/lib/python3.7/site-packages/seaborn/_decorators.py:43: FutureWarning: Pass the following variable as a keyword arg: x. From version 0.12, the only valid positional argument will be `data`, and passing other arguments without an explicit keyword will result in an error or misinterpretation.\n",
      "  FutureWarning\n"
     ]
    },
    {
     "data": {
      "image/png": "[encoded data removed]",
      "text/plain": [
       "<Figure size 432x288 with 1 Axes>"
      ]
     },
     "metadata": {
      "needs_background": "light"
     },
     "output_type": "display_data"
    }
   ],
   "source": [
    "sns.countplot(song[song[\"loudness\"]<=-40][\"On_chart\"])\n",
    "print(\"Total Songs Below -40 Loudness: \",song[song[\"loudness\"]<=-40][\"loudness\"].count())\n",
    "# So As Not A Single Song Is Hit If The Loudness in Below -40\n",
    "# So Will change loudness to -30 for every song which is below loudness -40"
   ]
  },
  {
   "cell_type": "code",
   "execution_count": 12,
   "id": "c0b1f5a6",
   "metadata": {
    "execution": {
     "iopub.execute_input": "2022-01-29T11:36:40.312360Z",
     "iopub.status.busy": "2022-01-29T11:36:40.311708Z",
     "iopub.status.idle": "2022-01-29T11:36:40.613551Z",
     "shell.execute_reply": "2022-01-29T11:36:40.612884Z",
     "shell.execute_reply.started": "2022-01-29T10:47:40.014159Z"
    },
    "papermill": {
     "duration": 0.343768,
     "end_time": "2022-01-29T11:36:40.613695",
     "exception": false,
     "start_time": "2022-01-29T11:36:40.269927",
     "status": "completed"
    },
    "tags": []
   },
   "outputs": [
    {
     "name": "stderr",
     "output_type": "stream",
     "text": [
      "/opt/conda/lib/python3.7/site-packages/ipykernel_launcher.py:3: SettingWithCopyWarning: \n",
      "A value is trying to be set on a copy of a slice from a DataFrame\n",
      "\n",
      "See the caveats in the documentation: https://pandas.pydata.org/pandas-docs/stable/user_guide/indexing.html#returning-a-view-versus-a-copy\n",
      "  This is separate from the ipykernel package so we can avoid doing imports until\n"
     ]
    }
   ],
   "source": [
    "for a in range(song.shape[0]):\n",
    "    if song['loudness'][a] < -40.00:\n",
    "        song['loudness'][a] = -40.00\n",
    "    else:\n",
    "        pass"
   ]
  },
  {
   "cell_type": "markdown",
   "id": "6f5dbd54",
   "metadata": {
    "papermill": {
     "duration": 0.03936,
     "end_time": "2022-01-29T11:36:40.691302",
     "exception": false,
     "start_time": "2022-01-29T11:36:40.651942",
     "status": "completed"
    },
    "tags": []
   },
   "source": [
    "# Splitting Data"
   ]
  },
  {
   "cell_type": "code",
   "execution_count": 13,
   "id": "b2f8e18c",
   "metadata": {
    "execution": {
     "iopub.execute_input": "2022-01-29T11:36:40.777618Z",
     "iopub.status.busy": "2022-01-29T11:36:40.776880Z",
     "iopub.status.idle": "2022-01-29T11:36:40.782118Z",
     "shell.execute_reply": "2022-01-29T11:36:40.782755Z",
     "shell.execute_reply.started": "2022-01-29T10:47:45.022588Z"
    },
    "papermill": {
     "duration": 0.049543,
     "end_time": "2022-01-29T11:36:40.782949",
     "exception": false,
     "start_time": "2022-01-29T11:36:40.733406",
     "status": "completed"
    },
    "tags": []
   },
   "outputs": [
    {
     "data": {
      "text/plain": [
       "36.660000000000004"
      ]
     },
     "execution_count": 13,
     "metadata": {},
     "output_type": "execute_result"
    }
   ],
   "source": [
    "(23.4+32.5+41.6+36.4+49.4)/5"
   ]
  },
  {
   "cell_type": "code",
   "execution_count": 14,
   "id": "666554db",
   "metadata": {
    "execution": {
     "iopub.execute_input": "2022-01-29T11:36:40.864302Z",
     "iopub.status.busy": "2022-01-29T11:36:40.863640Z",
     "iopub.status.idle": "2022-01-29T11:36:41.051397Z",
     "shell.execute_reply": "2022-01-29T11:36:41.050816Z",
     "shell.execute_reply.started": "2022-01-29T10:47:45.197915Z"
    },
    "papermill": {
     "duration": 0.229603,
     "end_time": "2022-01-29T11:36:41.051559",
     "exception": false,
     "start_time": "2022-01-29T11:36:40.821956",
     "status": "completed"
    },
    "tags": []
   },
   "outputs": [],
   "source": [
    "#importing library\n",
    "from sklearn.model_selection import train_test_split"
   ]
  },
  {
   "cell_type": "code",
   "execution_count": 15,
   "id": "87f1ce83",
   "metadata": {
    "execution": {
     "iopub.execute_input": "2022-01-29T11:36:41.143435Z",
     "iopub.status.busy": "2022-01-29T11:36:41.142593Z",
     "iopub.status.idle": "2022-01-29T11:36:41.147329Z",
     "shell.execute_reply": "2022-01-29T11:36:41.146631Z",
     "shell.execute_reply.started": "2022-01-29T10:47:45.407497Z"
    },
    "papermill": {
     "duration": 0.055693,
     "end_time": "2022-01-29T11:36:41.147504",
     "exception": false,
     "start_time": "2022-01-29T11:36:41.091811",
     "status": "completed"
    },
    "tags": []
   },
   "outputs": [
    {
     "data": {
      "text/html": [
       "<div>\n",
       "<style scoped>\n",
       "    .dataframe tbody tr th:only-of-type {\n",
       "        vertical-align: middle;\n",
       "    }\n",
       "\n",
       "    .dataframe tbody tr th {\n",
       "        vertical-align: top;\n",
       "    }\n",
       "\n",
       "    .dataframe thead th {\n",
       "        text-align: right;\n",
       "    }\n",
       "</style>\n",
       "<table border=\"1\" class=\"dataframe\">\n",
       "  <thead>\n",
       "    <tr style=\"text-align: right;\">\n",
       "      <th></th>\n",
       "      <th>track_title</th>\n",
       "      <th>artist_name</th>\n",
       "      <th>track_id</th>\n",
       "      <th>duration_ms</th>\n",
       "      <th>energy</th>\n",
       "      <th>key</th>\n",
       "      <th>mode</th>\n",
       "      <th>time_signature</th>\n",
       "      <th>acousticness</th>\n",
       "      <th>danceability</th>\n",
       "      <th>instrumentalness</th>\n",
       "      <th>liveness</th>\n",
       "      <th>loudness</th>\n",
       "      <th>speechiness</th>\n",
       "      <th>valence</th>\n",
       "      <th>tempo</th>\n",
       "      <th>On_chart</th>\n",
       "    </tr>\n",
       "  </thead>\n",
       "  <tbody>\n",
       "  </tbody>\n",
       "</table>\n",
       "</div>"
      ],
      "text/plain": [
       "Empty DataFrame\n",
       "Columns: [track_title, artist_name, track_id, duration_ms, energy, key, mode, time_signature, acousticness, danceability, instrumentalness, liveness, loudness, speechiness, valence, tempo, On_chart]\n",
       "Index: []"
      ]
     },
     "execution_count": 15,
     "metadata": {},
     "output_type": "execute_result"
    }
   ],
   "source": [
    "song.head(0)"
   ]
  },
  {
   "cell_type": "code",
   "execution_count": 16,
   "id": "75737be4",
   "metadata": {
    "execution": {
     "iopub.execute_input": "2022-01-29T11:36:41.232602Z",
     "iopub.status.busy": "2022-01-29T11:36:41.231547Z",
     "iopub.status.idle": "2022-01-29T11:36:41.241253Z",
     "shell.execute_reply": "2022-01-29T11:36:41.241792Z",
     "shell.execute_reply.started": "2022-01-29T10:47:45.560652Z"
    },
    "papermill": {
     "duration": 0.05425,
     "end_time": "2022-01-29T11:36:41.241997",
     "exception": false,
     "start_time": "2022-01-29T11:36:41.187747",
     "status": "completed"
    },
    "tags": []
   },
   "outputs": [],
   "source": [
    "# selecting featues and target\n",
    "feature = song.drop(['track_title','artist_name','track_id','On_chart'],axis=1)\n",
    "target = song['On_chart']"
   ]
  },
  {
   "cell_type": "code",
   "execution_count": 17,
   "id": "12793d97",
   "metadata": {
    "execution": {
     "iopub.execute_input": "2022-01-29T11:36:41.328827Z",
     "iopub.status.busy": "2022-01-29T11:36:41.328111Z",
     "iopub.status.idle": "2022-01-29T11:36:41.338664Z",
     "shell.execute_reply": "2022-01-29T11:36:41.339144Z",
     "shell.execute_reply.started": "2022-01-29T10:47:45.692266Z"
    },
    "papermill": {
     "duration": 0.058176,
     "end_time": "2022-01-29T11:36:41.339361",
     "exception": false,
     "start_time": "2022-01-29T11:36:41.281185",
     "status": "completed"
    },
    "tags": []
   },
   "outputs": [],
   "source": [
    "# Splitting Data\n",
    "X_train, X_test, y_train, y_test = train_test_split(feature, target, test_size=0.2, random_state=42)"
   ]
  },
  {
   "cell_type": "markdown",
   "id": "ecb3a073",
   "metadata": {
    "papermill": {
     "duration": 0.038801,
     "end_time": "2022-01-29T11:36:41.417602",
     "exception": false,
     "start_time": "2022-01-29T11:36:41.378801",
     "status": "completed"
    },
    "tags": []
   },
   "source": [
    "# Training Model"
   ]
  },
  {
   "cell_type": "code",
   "execution_count": 18,
   "id": "74192329",
   "metadata": {
    "execution": {
     "iopub.execute_input": "2022-01-29T11:36:41.501844Z",
     "iopub.status.busy": "2022-01-29T11:36:41.500940Z",
     "iopub.status.idle": "2022-01-29T11:36:41.701545Z",
     "shell.execute_reply": "2022-01-29T11:36:41.700966Z",
     "shell.execute_reply.started": "2022-01-29T10:47:46.861341Z"
    },
    "papermill": {
     "duration": 0.243916,
     "end_time": "2022-01-29T11:36:41.701723",
     "exception": false,
     "start_time": "2022-01-29T11:36:41.457807",
     "status": "completed"
    },
    "tags": []
   },
   "outputs": [],
   "source": [
    "from sklearn.ensemble import RandomForestClassifier"
   ]
  },
  {
   "cell_type": "code",
   "execution_count": 19,
   "id": "788e6e84",
   "metadata": {
    "execution": {
     "iopub.execute_input": "2022-01-29T11:36:41.787665Z",
     "iopub.status.busy": "2022-01-29T11:36:41.786869Z",
     "iopub.status.idle": "2022-01-29T11:36:41.790092Z",
     "shell.execute_reply": "2022-01-29T11:36:41.789574Z",
     "shell.execute_reply.started": "2022-01-29T10:47:47.195904Z"
    },
    "papermill": {
     "duration": 0.048215,
     "end_time": "2022-01-29T11:36:41.790265",
     "exception": false,
     "start_time": "2022-01-29T11:36:41.742050",
     "status": "completed"
    },
    "tags": []
   },
   "outputs": [],
   "source": [
    "model = RandomForestClassifier()"
   ]
  },
  {
   "cell_type": "code",
   "execution_count": 20,
   "id": "aba4595c",
   "metadata": {
    "execution": {
     "iopub.execute_input": "2022-01-29T11:36:41.873683Z",
     "iopub.status.busy": "2022-01-29T11:36:41.873013Z",
     "iopub.status.idle": "2022-01-29T11:36:49.385726Z",
     "shell.execute_reply": "2022-01-29T11:36:49.386327Z",
     "shell.execute_reply.started": "2022-01-29T10:47:47.496594Z"
    },
    "papermill": {
     "duration": 7.556779,
     "end_time": "2022-01-29T11:36:49.386555",
     "exception": false,
     "start_time": "2022-01-29T11:36:41.829776",
     "status": "completed"
    },
    "tags": []
   },
   "outputs": [
    {
     "data": {
      "text/plain": [
       "RandomForestClassifier()"
      ]
     },
     "execution_count": 20,
     "metadata": {},
     "output_type": "execute_result"
    }
   ],
   "source": [
    "model.fit(X_train,y_train)"
   ]
  },
  {
   "cell_type": "markdown",
   "id": "e8a177f9",
   "metadata": {
    "papermill": {
     "duration": 0.039792,
     "end_time": "2022-01-29T11:36:49.466479",
     "exception": false,
     "start_time": "2022-01-29T11:36:49.426687",
     "status": "completed"
    },
    "tags": []
   },
   "source": [
    "# Prediction "
   ]
  },
  {
   "cell_type": "code",
   "execution_count": 21,
   "id": "a8d66ef5",
   "metadata": {
    "execution": {
     "iopub.execute_input": "2022-01-29T11:36:49.550005Z",
     "iopub.status.busy": "2022-01-29T11:36:49.549336Z",
     "iopub.status.idle": "2022-01-29T11:36:49.721659Z",
     "shell.execute_reply": "2022-01-29T11:36:49.721074Z",
     "shell.execute_reply.started": "2022-01-29T10:47:55.066698Z"
    },
    "papermill": {
     "duration": 0.215328,
     "end_time": "2022-01-29T11:36:49.721837",
     "exception": false,
     "start_time": "2022-01-29T11:36:49.506509",
     "status": "completed"
    },
    "tags": []
   },
   "outputs": [],
   "source": [
    "# Predicting Hit Song For Test Data\n",
    "prediction = model.predict(X_test)"
   ]
  },
  {
   "cell_type": "code",
   "execution_count": 22,
   "id": "a4f8bbd4",
   "metadata": {
    "execution": {
     "iopub.execute_input": "2022-01-29T11:36:49.805751Z",
     "iopub.status.busy": "2022-01-29T11:36:49.805035Z",
     "iopub.status.idle": "2022-01-29T11:36:49.809482Z",
     "shell.execute_reply": "2022-01-29T11:36:49.810043Z",
     "shell.execute_reply.started": "2022-01-29T10:47:55.245903Z"
    },
    "papermill": {
     "duration": 0.048173,
     "end_time": "2022-01-29T11:36:49.810241",
     "exception": false,
     "start_time": "2022-01-29T11:36:49.762068",
     "status": "completed"
    },
    "tags": []
   },
   "outputs": [
    {
     "data": {
      "text/plain": [
       "array([0, 0, 0, ..., 0, 1, 0])"
      ]
     },
     "execution_count": 22,
     "metadata": {},
     "output_type": "execute_result"
    }
   ],
   "source": [
    "prediction"
   ]
  },
  {
   "cell_type": "markdown",
   "id": "d61d9788",
   "metadata": {
    "papermill": {
     "duration": 0.040051,
     "end_time": "2022-01-29T11:36:49.890427",
     "exception": false,
     "start_time": "2022-01-29T11:36:49.850376",
     "status": "completed"
    },
    "tags": []
   },
   "source": [
    "# Evaluation"
   ]
  },
  {
   "cell_type": "code",
   "execution_count": 23,
   "id": "a2e23a44",
   "metadata": {
    "execution": {
     "iopub.execute_input": "2022-01-29T11:36:49.981418Z",
     "iopub.status.busy": "2022-01-29T11:36:49.980717Z",
     "iopub.status.idle": "2022-01-29T11:36:49.983546Z",
     "shell.execute_reply": "2022-01-29T11:36:49.982868Z",
     "shell.execute_reply.started": "2022-01-29T10:47:55.255178Z"
    },
    "papermill": {
     "duration": 0.050915,
     "end_time": "2022-01-29T11:36:49.983725",
     "exception": false,
     "start_time": "2022-01-29T11:36:49.932810",
     "status": "completed"
    },
    "tags": []
   },
   "outputs": [],
   "source": [
    "from sklearn.metrics import classification_report,confusion_matrix,accuracy_score"
   ]
  },
  {
   "cell_type": "code",
   "execution_count": 24,
   "id": "de80cfb7",
   "metadata": {
    "execution": {
     "iopub.execute_input": "2022-01-29T11:36:50.072110Z",
     "iopub.status.busy": "2022-01-29T11:36:50.071380Z",
     "iopub.status.idle": "2022-01-29T11:36:50.098607Z",
     "shell.execute_reply": "2022-01-29T11:36:50.099239Z",
     "shell.execute_reply.started": "2022-01-29T10:47:55.264669Z"
    },
    "papermill": {
     "duration": 0.075312,
     "end_time": "2022-01-29T11:36:50.099440",
     "exception": false,
     "start_time": "2022-01-29T11:36:50.024128",
     "status": "completed"
    },
    "tags": []
   },
   "outputs": [
    {
     "name": "stdout",
     "output_type": "stream",
     "text": [
      "Confusion Matrix:\n",
      " [[2674  784]\n",
      " [ 477 3013]]\n",
      "\n",
      "Classification Report:\n",
      "               precision    recall  f1-score   support\n",
      "\n",
      "           0       0.85      0.77      0.81      3458\n",
      "           1       0.79      0.86      0.83      3490\n",
      "\n",
      "    accuracy                           0.82      6948\n",
      "   macro avg       0.82      0.82      0.82      6948\n",
      "weighted avg       0.82      0.82      0.82      6948\n",
      "\n",
      "Accuracy Score:  0.8185089234312032\n"
     ]
    }
   ],
   "source": [
    "print(\"Confusion Matrix:\\n\",confusion_matrix(y_test,prediction))\n",
    "print(\"\\nClassification Report:\\n\",classification_report(y_test,prediction))\n",
    "print(\"Accuracy Score: \",accuracy_score(y_test,prediction))"
   ]
  },
  {
   "cell_type": "code",
   "execution_count": 25,
   "id": "fffbb0b6",
   "metadata": {
    "execution": {
     "iopub.execute_input": "2022-01-29T11:36:50.195612Z",
     "iopub.status.busy": "2022-01-29T11:36:50.190981Z",
     "iopub.status.idle": "2022-01-29T11:36:50.198637Z",
     "shell.execute_reply": "2022-01-29T11:36:50.199240Z",
     "shell.execute_reply.started": "2022-01-29T10:48:48.801615Z"
    },
    "papermill": {
     "duration": 0.0597,
     "end_time": "2022-01-29T11:36:50.199431",
     "exception": false,
     "start_time": "2022-01-29T11:36:50.139731",
     "status": "completed"
    },
    "tags": []
   },
   "outputs": [
    {
     "data": {
      "text/html": [
       "<div>\n",
       "<style scoped>\n",
       "    .dataframe tbody tr th:only-of-type {\n",
       "        vertical-align: middle;\n",
       "    }\n",
       "\n",
       "    .dataframe tbody tr th {\n",
       "        vertical-align: top;\n",
       "    }\n",
       "\n",
       "    .dataframe thead th {\n",
       "        text-align: right;\n",
       "    }\n",
       "</style>\n",
       "<table border=\"1\" class=\"dataframe\">\n",
       "  <thead>\n",
       "    <tr style=\"text-align: right;\">\n",
       "      <th></th>\n",
       "      <th>duration_ms</th>\n",
       "      <th>energy</th>\n",
       "      <th>key</th>\n",
       "      <th>mode</th>\n",
       "      <th>time_signature</th>\n",
       "      <th>acousticness</th>\n",
       "      <th>danceability</th>\n",
       "      <th>instrumentalness</th>\n",
       "      <th>liveness</th>\n",
       "      <th>loudness</th>\n",
       "      <th>speechiness</th>\n",
       "      <th>valence</th>\n",
       "      <th>tempo</th>\n",
       "    </tr>\n",
       "  </thead>\n",
       "  <tbody>\n",
       "    <tr>\n",
       "      <th>26756</th>\n",
       "      <td>392400</td>\n",
       "      <td>0.559</td>\n",
       "      <td>0</td>\n",
       "      <td>0</td>\n",
       "      <td>4</td>\n",
       "      <td>0.00346</td>\n",
       "      <td>0.416</td>\n",
       "      <td>0.085</td>\n",
       "      <td>0.1480</td>\n",
       "      <td>-10.751</td>\n",
       "      <td>0.0349</td>\n",
       "      <td>0.152</td>\n",
       "      <td>137.170</td>\n",
       "    </tr>\n",
       "    <tr>\n",
       "      <th>6230</th>\n",
       "      <td>149943</td>\n",
       "      <td>0.457</td>\n",
       "      <td>9</td>\n",
       "      <td>0</td>\n",
       "      <td>4</td>\n",
       "      <td>0.04710</td>\n",
       "      <td>0.647</td>\n",
       "      <td>0.954</td>\n",
       "      <td>0.0402</td>\n",
       "      <td>-14.525</td>\n",
       "      <td>0.0429</td>\n",
       "      <td>0.938</td>\n",
       "      <td>135.103</td>\n",
       "    </tr>\n",
       "  </tbody>\n",
       "</table>\n",
       "</div>"
      ],
      "text/plain": [
       "       duration_ms  energy  key  mode  time_signature  acousticness  \\\n",
       "26756       392400   0.559    0     0               4       0.00346   \n",
       "6230        149943   0.457    9     0               4       0.04710   \n",
       "\n",
       "       danceability  instrumentalness  liveness  loudness  speechiness  \\\n",
       "26756         0.416             0.085    0.1480   -10.751       0.0349   \n",
       "6230          0.647             0.954    0.0402   -14.525       0.0429   \n",
       "\n",
       "       valence    tempo  \n",
       "26756    0.152  137.170  \n",
       "6230     0.938  135.103  "
      ]
     },
     "execution_count": 25,
     "metadata": {},
     "output_type": "execute_result"
    }
   ],
   "source": [
    "X_train.head(2)"
   ]
  },
  {
   "cell_type": "code",
   "execution_count": 26,
   "id": "08394d64",
   "metadata": {
    "execution": {
     "iopub.execute_input": "2022-01-29T11:36:50.283777Z",
     "iopub.status.busy": "2022-01-29T11:36:50.283102Z",
     "iopub.status.idle": "2022-01-29T11:36:50.299290Z",
     "shell.execute_reply": "2022-01-29T11:36:50.300282Z",
     "shell.execute_reply.started": "2022-01-29T11:01:06.952181Z"
    },
    "papermill": {
     "duration": 0.060712,
     "end_time": "2022-01-29T11:36:50.300587",
     "exception": false,
     "start_time": "2022-01-29T11:36:50.239875",
     "status": "completed"
    },
    "tags": []
   },
   "outputs": [
    {
     "name": "stdout",
     "output_type": "stream",
     "text": [
      "Hit Song\n"
     ]
    }
   ],
   "source": [
    "# Let's Predict Random Value Data \n",
    "newsong_info = [[255789,0.786,1,1,4,0.08722,0.998,0.756,0.5846,-9.585,0.0865,0.878,185.658]]\n",
    "val = model.predict(newsong_info)\n",
    "if val==0:\n",
    "    print(\"Not A Hit Song\")\n",
    "else:\n",
    "    print(\"Hit Song\")"
   ]
  },
  {
   "cell_type": "markdown",
   "id": "2b2b06af",
   "metadata": {
    "papermill": {
     "duration": 0.040344,
     "end_time": "2022-01-29T11:36:50.382581",
     "exception": false,
     "start_time": "2022-01-29T11:36:50.342237",
     "status": "completed"
    },
    "tags": []
   },
   "source": [
    "# Thank You "
   ]
  },
  {
   "cell_type": "code",
   "execution_count": null,
   "id": "5da9784b",
   "metadata": {
    "papermill": {
     "duration": 0.041668,
     "end_time": "2022-01-29T11:36:50.464722",
     "exception": false,
     "start_time": "2022-01-29T11:36:50.423054",
     "status": "completed"
    },
    "tags": []
   },
   "outputs": [],
   "source": []
  }
 ],
 "metadata": {
  "kernelspec": {
   "display_name": "Python 3",
   "language": "python",
   "name": "python3"
  },
  "language_info": {
   "codemirror_mode": {
    "name": "ipython",
    "version": 3
   },
   "file_extension": ".py",
   "mimetype": "text/x-python",
   "name": "python",
   "nbconvert_exporter": "python",
   "pygments_lexer": "ipython3",
   "version": "3.7.12"
  },
  "papermill": {
   "default_parameters": {},
   "duration": 29.175656,
   "end_time": "2022-01-29T11:36:51.518321",
   "environment_variables": {},
   "exception": null,
   "input_path": "__notebook__.ipynb",
   "output_path": "__notebook__.ipynb",
   "parameters": {},
   "start_time": "2022-01-29T11:36:22.342665",
   "version": "2.3.3"
  }
 },
 "nbformat": 4,
 "nbformat_minor": 5
}
